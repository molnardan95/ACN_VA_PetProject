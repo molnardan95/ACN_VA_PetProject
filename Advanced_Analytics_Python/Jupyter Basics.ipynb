{
 "cells": [
  {
   "cell_type": "code",
   "execution_count": null,
   "metadata": {},
   "outputs": [],
   "source": [
    "print(\"In a Jupyter notebook, we are working with cells. Cells have input, like this one. The output will be shown below.\")"
   ]
  },
  {
   "cell_type": "code",
   "execution_count": null,
   "metadata": {},
   "outputs": [],
   "source": [
    "print(\"The number in the brackets shows the order, in which the codes ran. If it's empty, the cell haven't ran yet.\")"
   ]
  },
  {
   "cell_type": "code",
   "execution_count": null,
   "metadata": {},
   "outputs": [],
   "source": [
    "print(\"The cells can be run in any order. Shift+Enter or Ctrl+Enter\")"
   ]
  },
  {
   "cell_type": "markdown",
   "metadata": {},
   "source": [
    "This is a Markdown cell. It can be used for comments and Titles."
   ]
  },
  {
   "cell_type": "markdown",
   "metadata": {},
   "source": [
    "In markdown cells, you can use HTML formatting \n",
    "\n",
    "For example <br> brakes the line"
   ]
  },
  {
   "cell_type": "code",
   "execution_count": null,
   "metadata": {},
   "outputs": [],
   "source": [
    "# You can also add comments like this"
   ]
  },
  {
   "cell_type": "markdown",
   "metadata": {},
   "source": [
    "# Very big header\n",
    "## Big header\n",
    "### Smaller header\n",
    "#### Etc\n",
    "\n",
    "Make bulletpoints\n",
    "- first point\n",
    "- second point \n",
    "\n",
    "Make numbered bulletpoints\n",
    "1. first point\n",
    "2. second point"
   ]
  },
  {
   "cell_type": "markdown",
   "metadata": {},
   "source": [
    "### Variables \n",
    "##### variables are loaded into memory while the notebook runs. If you stop the notebook, they will be lost"
   ]
  },
  {
   "cell_type": "code",
   "execution_count": null,
   "metadata": {},
   "outputs": [],
   "source": [
    "a = 3"
   ]
  },
  {
   "cell_type": "code",
   "execution_count": null,
   "metadata": {},
   "outputs": [],
   "source": [
    "a"
   ]
  },
  {
   "cell_type": "code",
   "execution_count": null,
   "metadata": {},
   "outputs": [],
   "source": [
    "a = a + 1 #the more you run this cell, the higher a will be\n",
    "a"
   ]
  },
  {
   "cell_type": "markdown",
   "metadata": {},
   "source": [
    "#### If a cell doesn't run, we get useful error messages like the one below"
   ]
  },
  {
   "cell_type": "code",
   "execution_count": null,
   "metadata": {},
   "outputs": [],
   "source": [
    "b"
   ]
  },
  {
   "cell_type": "code",
   "execution_count": null,
   "metadata": {},
   "outputs": [],
   "source": [
    "number_var = 2\n",
    "string_var = \"2\"\n",
    "number_var, string_var"
   ]
  },
  {
   "cell_type": "markdown",
   "metadata": {},
   "source": [
    "You can get the type of your variable using the type() function\n",
    "\n",
    "Later in pandas, we will have a similar dtypes() function, to give us all the data types for each column"
   ]
  },
  {
   "cell_type": "code",
   "execution_count": null,
   "metadata": {},
   "outputs": [],
   "source": [
    "type(number_var), type(string_var)"
   ]
  },
  {
   "cell_type": "code",
   "execution_count": null,
   "metadata": {},
   "outputs": [],
   "source": [
    "int(string_var)\n",
    "str(number_var)\n",
    "# you can create easy type conversions like this"
   ]
  },
  {
   "cell_type": "code",
   "execution_count": null,
   "metadata": {},
   "outputs": [],
   "source": [
    "# Boolean variables are created as such\n",
    "false_var = False\n",
    "true_var = True \n",
    "\n",
    "# These are case sensitive. Pay attention to the gree outline for True and False."
   ]
  },
  {
   "cell_type": "code",
   "execution_count": null,
   "metadata": {},
   "outputs": [],
   "source": [
    "a = 1\n",
    "b = 2\n",
    "c = 1 + 2\n",
    "d = a + b # Addition can be done simply by using int or float variables\n",
    "c == d # we can check if an equation is true or false. "
   ]
  },
  {
   "cell_type": "markdown",
   "metadata": {},
   "source": [
    "### Notebook commands:\n",
    "- shift+Enter = run cell\n",
    "- escape a = instert cell above\n",
    "- escape b = insert cell below\n",
    "- escape m = change the cell to markdown cell\n",
    "- dd = deletes the cell\n",
    "- ! before command = execute as bash command"
   ]
  },
  {
   "cell_type": "markdown",
   "metadata": {},
   "source": [
    "### You can also change the value of your variable on the fly \n",
    "\n",
    "x += 1          # add then assign value\n",
    "\n",
    "x -= 1          # subtract then assign value\n",
    "\n",
    "x *= 2          # multiply then assign value\n",
    "\n",
    "x /= 3          # divide then assign value\n",
    "\n",
    "x // = 5        # floor divide then assign value\n",
    "\n",
    "x **= 2         # exponentiate then assign value\n",
    "\n",
    "x %= 3          # return remainder then assign value"
   ]
  },
  {
   "cell_type": "code",
   "execution_count": null,
   "metadata": {},
   "outputs": [],
   "source": []
  }
 ],
 "metadata": {
  "kernelspec": {
   "display_name": "Python 3",
   "language": "python",
   "name": "python3"
  },
  "language_info": {
   "codemirror_mode": {
    "name": "ipython",
    "version": 3
   },
   "file_extension": ".py",
   "mimetype": "text/x-python",
   "name": "python",
   "nbconvert_exporter": "python",
   "pygments_lexer": "ipython3",
   "version": "3.7.4"
  }
 },
 "nbformat": 4,
 "nbformat_minor": 2
}
