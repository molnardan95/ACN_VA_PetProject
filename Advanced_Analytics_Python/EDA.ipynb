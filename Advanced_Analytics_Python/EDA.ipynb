{
 "cells": [
  {
   "cell_type": "markdown",
   "metadata": {},
   "source": [
    "#### Import packages"
   ]
  },
  {
   "cell_type": "code",
   "execution_count": 1,
   "metadata": {},
   "outputs": [
    {
     "name": "stdout",
     "output_type": "stream",
     "text": [
      "Requirement already satisfied: plotly in c:\\users\\daniel.molnar\\appdata\\local\\continuum\\anaconda3\\lib\\site-packages (4.5.0)\n",
      "Requirement already satisfied: six in c:\\users\\daniel.molnar\\appdata\\local\\continuum\\anaconda3\\lib\\site-packages (from plotly) (1.12.0)\n",
      "Requirement already satisfied: retrying>=1.3.3 in c:\\users\\daniel.molnar\\appdata\\local\\continuum\\anaconda3\\lib\\site-packages (from plotly) (1.3.3)\n"
     ]
    }
   ],
   "source": [
    "! pip install plotly"
   ]
  },
  {
   "cell_type": "code",
   "execution_count": 2,
   "metadata": {},
   "outputs": [],
   "source": [
    "import pandas as pd\n",
    "import numpy as np\n",
    "import plotly as px\n",
    "import matplotlib.pyplot as plt\n",
    "import seaborn as sns\n"
   ]
  },
  {
   "cell_type": "markdown",
   "metadata": {},
   "source": [
    "#### Load Data"
   ]
  },
  {
   "cell_type": "code",
   "execution_count": 3,
   "metadata": {},
   "outputs": [],
   "source": [
    "data = pd.read_csv(\"..\\data\\data_work.csv\",\n",
    "                          sep=',', delimiter=None)"
   ]
  },
  {
   "cell_type": "code",
   "execution_count": 4,
   "metadata": {},
   "outputs": [
    {
     "data": {
      "text/html": [
       "<div>\n",
       "<style scoped>\n",
       "    .dataframe tbody tr th:only-of-type {\n",
       "        vertical-align: middle;\n",
       "    }\n",
       "\n",
       "    .dataframe tbody tr th {\n",
       "        vertical-align: top;\n",
       "    }\n",
       "\n",
       "    .dataframe thead th {\n",
       "        text-align: right;\n",
       "    }\n",
       "</style>\n",
       "<table border=\"1\" class=\"dataframe\">\n",
       "  <thead>\n",
       "    <tr style=\"text-align: right;\">\n",
       "      <th></th>\n",
       "      <th>Unnamed: 0</th>\n",
       "      <th>year</th>\n",
       "      <th>player</th>\n",
       "      <th>position_in_team</th>\n",
       "      <th>age</th>\n",
       "      <th>team</th>\n",
       "      <th>games_played</th>\n",
       "      <th>games_started</th>\n",
       "      <th>mins_played</th>\n",
       "      <th>player_efficience_rating</th>\n",
       "      <th>...</th>\n",
       "      <th>fouls</th>\n",
       "      <th>points</th>\n",
       "      <th>player_id</th>\n",
       "      <th>year_start</th>\n",
       "      <th>year_end</th>\n",
       "      <th>position</th>\n",
       "      <th>height</th>\n",
       "      <th>weight</th>\n",
       "      <th>birth_date</th>\n",
       "      <th>college</th>\n",
       "    </tr>\n",
       "  </thead>\n",
       "  <tbody>\n",
       "    <tr>\n",
       "      <td>0</td>\n",
       "      <td>1</td>\n",
       "      <td>1986</td>\n",
       "      <td>A.C. Green</td>\n",
       "      <td>PF</td>\n",
       "      <td>22.0</td>\n",
       "      <td>LAL</td>\n",
       "      <td>82</td>\n",
       "      <td>1.0</td>\n",
       "      <td>1542.0</td>\n",
       "      <td>11.8</td>\n",
       "      <td>...</td>\n",
       "      <td>229</td>\n",
       "      <td>521</td>\n",
       "      <td>A.C. Green 1</td>\n",
       "      <td>1986.0</td>\n",
       "      <td>2001.0</td>\n",
       "      <td>F-C</td>\n",
       "      <td>6-9</td>\n",
       "      <td>220.0</td>\n",
       "      <td>October 4, 1963</td>\n",
       "      <td>Oregon State University</td>\n",
       "    </tr>\n",
       "    <tr>\n",
       "      <td>1</td>\n",
       "      <td>2</td>\n",
       "      <td>1987</td>\n",
       "      <td>A.C. Green</td>\n",
       "      <td>PF</td>\n",
       "      <td>23.0</td>\n",
       "      <td>LAL</td>\n",
       "      <td>79</td>\n",
       "      <td>72.0</td>\n",
       "      <td>2240.0</td>\n",
       "      <td>15.7</td>\n",
       "      <td>...</td>\n",
       "      <td>171</td>\n",
       "      <td>852</td>\n",
       "      <td>A.C. Green 1</td>\n",
       "      <td>1986.0</td>\n",
       "      <td>2001.0</td>\n",
       "      <td>F-C</td>\n",
       "      <td>6-9</td>\n",
       "      <td>220.0</td>\n",
       "      <td>October 4, 1963</td>\n",
       "      <td>Oregon State University</td>\n",
       "    </tr>\n",
       "    <tr>\n",
       "      <td>2</td>\n",
       "      <td>3</td>\n",
       "      <td>1988</td>\n",
       "      <td>A.C. Green</td>\n",
       "      <td>PF</td>\n",
       "      <td>24.0</td>\n",
       "      <td>LAL</td>\n",
       "      <td>82</td>\n",
       "      <td>64.0</td>\n",
       "      <td>2636.0</td>\n",
       "      <td>14.5</td>\n",
       "      <td>...</td>\n",
       "      <td>204</td>\n",
       "      <td>937</td>\n",
       "      <td>A.C. Green 1</td>\n",
       "      <td>1986.0</td>\n",
       "      <td>2001.0</td>\n",
       "      <td>F-C</td>\n",
       "      <td>6-9</td>\n",
       "      <td>220.0</td>\n",
       "      <td>October 4, 1963</td>\n",
       "      <td>Oregon State University</td>\n",
       "    </tr>\n",
       "    <tr>\n",
       "      <td>3</td>\n",
       "      <td>4</td>\n",
       "      <td>1989</td>\n",
       "      <td>A.C. Green</td>\n",
       "      <td>PF</td>\n",
       "      <td>25.0</td>\n",
       "      <td>LAL</td>\n",
       "      <td>82</td>\n",
       "      <td>82.0</td>\n",
       "      <td>2510.0</td>\n",
       "      <td>17.8</td>\n",
       "      <td>...</td>\n",
       "      <td>172</td>\n",
       "      <td>1088</td>\n",
       "      <td>A.C. Green 1</td>\n",
       "      <td>1986.0</td>\n",
       "      <td>2001.0</td>\n",
       "      <td>F-C</td>\n",
       "      <td>6-9</td>\n",
       "      <td>220.0</td>\n",
       "      <td>October 4, 1963</td>\n",
       "      <td>Oregon State University</td>\n",
       "    </tr>\n",
       "    <tr>\n",
       "      <td>4</td>\n",
       "      <td>5</td>\n",
       "      <td>1990</td>\n",
       "      <td>A.C. Green</td>\n",
       "      <td>PF</td>\n",
       "      <td>26.0</td>\n",
       "      <td>LAL</td>\n",
       "      <td>82</td>\n",
       "      <td>82.0</td>\n",
       "      <td>2709.0</td>\n",
       "      <td>14.7</td>\n",
       "      <td>...</td>\n",
       "      <td>207</td>\n",
       "      <td>1061</td>\n",
       "      <td>A.C. Green 1</td>\n",
       "      <td>1986.0</td>\n",
       "      <td>2001.0</td>\n",
       "      <td>F-C</td>\n",
       "      <td>6-9</td>\n",
       "      <td>220.0</td>\n",
       "      <td>October 4, 1963</td>\n",
       "      <td>Oregon State University</td>\n",
       "    </tr>\n",
       "  </tbody>\n",
       "</table>\n",
       "<p>5 rows × 59 columns</p>\n",
       "</div>"
      ],
      "text/plain": [
       "   Unnamed: 0  year      player position_in_team   age team  games_played  \\\n",
       "0           1  1986  A.C. Green               PF  22.0  LAL            82   \n",
       "1           2  1987  A.C. Green               PF  23.0  LAL            79   \n",
       "2           3  1988  A.C. Green               PF  24.0  LAL            82   \n",
       "3           4  1989  A.C. Green               PF  25.0  LAL            82   \n",
       "4           5  1990  A.C. Green               PF  26.0  LAL            82   \n",
       "\n",
       "   games_started  mins_played  player_efficience_rating  ...  fouls  points  \\\n",
       "0            1.0       1542.0                      11.8  ...    229     521   \n",
       "1           72.0       2240.0                      15.7  ...    171     852   \n",
       "2           64.0       2636.0                      14.5  ...    204     937   \n",
       "3           82.0       2510.0                      17.8  ...    172    1088   \n",
       "4           82.0       2709.0                      14.7  ...    207    1061   \n",
       "\n",
       "      player_id  year_start  year_end  position  height  weight  \\\n",
       "0  A.C. Green 1      1986.0    2001.0       F-C     6-9   220.0   \n",
       "1  A.C. Green 1      1986.0    2001.0       F-C     6-9   220.0   \n",
       "2  A.C. Green 1      1986.0    2001.0       F-C     6-9   220.0   \n",
       "3  A.C. Green 1      1986.0    2001.0       F-C     6-9   220.0   \n",
       "4  A.C. Green 1      1986.0    2001.0       F-C     6-9   220.0   \n",
       "\n",
       "        birth_date                  college  \n",
       "0  October 4, 1963  Oregon State University  \n",
       "1  October 4, 1963  Oregon State University  \n",
       "2  October 4, 1963  Oregon State University  \n",
       "3  October 4, 1963  Oregon State University  \n",
       "4  October 4, 1963  Oregon State University  \n",
       "\n",
       "[5 rows x 59 columns]"
      ]
     },
     "execution_count": 4,
     "metadata": {},
     "output_type": "execute_result"
    }
   ],
   "source": [
    "data.head()"
   ]
  },
  {
   "cell_type": "markdown",
   "metadata": {},
   "source": [
    "### EDA"
   ]
  },
  {
   "cell_type": "markdown",
   "metadata": {},
   "source": [
    "#### Answer Basic Question About The Data"
   ]
  },
  {
   "cell_type": "code",
   "execution_count": 5,
   "metadata": {},
   "outputs": [
    {
     "data": {
      "text/plain": [
       "'The number of observations in our dataset is 24636 and it has 59 columns.'"
      ]
     },
     "execution_count": 5,
     "metadata": {},
     "output_type": "execute_result"
    }
   ],
   "source": [
    "number_of_observations = data['player_id'].count() # len(data.index)  These are interchangeable''\n",
    "number_of_columns = len(data.columns)\n",
    "\n",
    "'The number of observations in our dataset is {} and it has {} columns.'.format(number_of_observations, number_of_columns)"
   ]
  },
  {
   "cell_type": "code",
   "execution_count": 6,
   "metadata": {},
   "outputs": [
    {
     "data": {
      "text/plain": [
       "Unnamed: 0                       int64\n",
       "year                             int64\n",
       "player                          object\n",
       "position_in_team                object\n",
       "age                            float64\n",
       "team                            object\n",
       "games_played                     int64\n",
       "games_started                  float64\n",
       "mins_played                    float64\n",
       "player_efficience_rating       float64\n",
       "perc_true_shooting             float64\n",
       "rate_3_point                   float64\n",
       "rate_free_throw                float64\n",
       "perc_off_rebound               float64\n",
       "perc_def_rebound               float64\n",
       "perc_tot_rebound               float64\n",
       "perc_assist                    float64\n",
       "perc_steal                     float64\n",
       "perc_block                     float64\n",
       "perc_trunover                  float64\n",
       "perc_usage                     float64\n",
       "win_share_off                  float64\n",
       "win_share_def                  float64\n",
       "win_share                      float64\n",
       "win_share_per_48               float64\n",
       "plus_minus_box_off             float64\n",
       "plus_minus_box_def             float64\n",
       "plus_minus_box                 float64\n",
       "value_over_replacement         float64\n",
       "field_goals                      int64\n",
       "field_goal_attempts              int64\n",
       "perc_field_goal                float64\n",
       "field_goal_3_point             float64\n",
       "field_goal_3_point_attempts    float64\n",
       "perc_field_goal_3_point        float64\n",
       "field_goal_2_point               int64\n",
       "field_goal_2_point_attempts      int64\n",
       "perc_field_goal_2_point        float64\n",
       "perc_field_goal_effective      float64\n",
       "free_throws                      int64\n",
       "free_throw_attempts              int64\n",
       "perc_free_throw                float64\n",
       "rebounds_off                   float64\n",
       "rebounds_def                   float64\n",
       "rebounds                       float64\n",
       "assists                          int64\n",
       "steals                         float64\n",
       "blocks                         float64\n",
       "turnovers                      float64\n",
       "fouls                            int64\n",
       "points                           int64\n",
       "player_id                       object\n",
       "year_start                     float64\n",
       "year_end                       float64\n",
       "position                        object\n",
       "height                          object\n",
       "weight                         float64\n",
       "birth_date                      object\n",
       "college                         object\n",
       "dtype: object"
      ]
     },
     "execution_count": 6,
     "metadata": {},
     "output_type": "execute_result"
    }
   ],
   "source": [
    "data.dtypes"
   ]
  },
  {
   "cell_type": "code",
   "execution_count": 7,
   "metadata": {},
   "outputs": [
    {
     "data": {
      "text/html": [
       "<div>\n",
       "<style scoped>\n",
       "    .dataframe tbody tr th:only-of-type {\n",
       "        vertical-align: middle;\n",
       "    }\n",
       "\n",
       "    .dataframe tbody tr th {\n",
       "        vertical-align: top;\n",
       "    }\n",
       "\n",
       "    .dataframe thead th {\n",
       "        text-align: right;\n",
       "    }\n",
       "</style>\n",
       "<table border=\"1\" class=\"dataframe\">\n",
       "  <thead>\n",
       "    <tr style=\"text-align: right;\">\n",
       "      <th></th>\n",
       "      <th>Unnamed: 0</th>\n",
       "      <th>year</th>\n",
       "      <th>age</th>\n",
       "      <th>games_played</th>\n",
       "      <th>games_started</th>\n",
       "      <th>mins_played</th>\n",
       "      <th>player_efficience_rating</th>\n",
       "      <th>perc_true_shooting</th>\n",
       "      <th>rate_3_point</th>\n",
       "      <th>rate_free_throw</th>\n",
       "      <th>...</th>\n",
       "      <th>rebounds</th>\n",
       "      <th>assists</th>\n",
       "      <th>steals</th>\n",
       "      <th>blocks</th>\n",
       "      <th>turnovers</th>\n",
       "      <th>fouls</th>\n",
       "      <th>points</th>\n",
       "      <th>year_start</th>\n",
       "      <th>year_end</th>\n",
       "      <th>weight</th>\n",
       "    </tr>\n",
       "  </thead>\n",
       "  <tbody>\n",
       "    <tr>\n",
       "      <td>count</td>\n",
       "      <td>24636.000000</td>\n",
       "      <td>24636.000000</td>\n",
       "      <td>24628.000000</td>\n",
       "      <td>24636.000000</td>\n",
       "      <td>18235.000000</td>\n",
       "      <td>24150.000000</td>\n",
       "      <td>24113.000000</td>\n",
       "      <td>24550.000000</td>\n",
       "      <td>18841.000000</td>\n",
       "      <td>24537.000000</td>\n",
       "      <td>...</td>\n",
       "      <td>24324.000000</td>\n",
       "      <td>24636.000000</td>\n",
       "      <td>20803.000000</td>\n",
       "      <td>20803.000000</td>\n",
       "      <td>19647.000000</td>\n",
       "      <td>24636.000000</td>\n",
       "      <td>24636.000000</td>\n",
       "      <td>24394.000000</td>\n",
       "      <td>24394.000000</td>\n",
       "      <td>24389.000000</td>\n",
       "    </tr>\n",
       "    <tr>\n",
       "      <td>mean</td>\n",
       "      <td>12318.500000</td>\n",
       "      <td>1992.588570</td>\n",
       "      <td>26.664812</td>\n",
       "      <td>50.843440</td>\n",
       "      <td>23.590787</td>\n",
       "      <td>1210.066957</td>\n",
       "      <td>12.479886</td>\n",
       "      <td>0.493004</td>\n",
       "      <td>0.158603</td>\n",
       "      <td>0.325439</td>\n",
       "      <td>...</td>\n",
       "      <td>224.624445</td>\n",
       "      <td>114.899618</td>\n",
       "      <td>39.895928</td>\n",
       "      <td>24.466471</td>\n",
       "      <td>73.932509</td>\n",
       "      <td>116.378836</td>\n",
       "      <td>510.243140</td>\n",
       "      <td>1988.347626</td>\n",
       "      <td>1996.664877</td>\n",
       "      <td>212.331174</td>\n",
       "    </tr>\n",
       "    <tr>\n",
       "      <td>std</td>\n",
       "      <td>7111.944952</td>\n",
       "      <td>17.431213</td>\n",
       "      <td>3.841777</td>\n",
       "      <td>26.497281</td>\n",
       "      <td>28.631883</td>\n",
       "      <td>941.336357</td>\n",
       "      <td>6.038863</td>\n",
       "      <td>0.094449</td>\n",
       "      <td>0.187486</td>\n",
       "      <td>0.219094</td>\n",
       "      <td>...</td>\n",
       "      <td>228.146698</td>\n",
       "      <td>135.870677</td>\n",
       "      <td>38.710475</td>\n",
       "      <td>36.930686</td>\n",
       "      <td>67.714249</td>\n",
       "      <td>84.819435</td>\n",
       "      <td>492.935045</td>\n",
       "      <td>17.125897</td>\n",
       "      <td>17.814915</td>\n",
       "      <td>26.479191</td>\n",
       "    </tr>\n",
       "    <tr>\n",
       "      <td>min</td>\n",
       "      <td>1.000000</td>\n",
       "      <td>1950.000000</td>\n",
       "      <td>18.000000</td>\n",
       "      <td>1.000000</td>\n",
       "      <td>0.000000</td>\n",
       "      <td>0.000000</td>\n",
       "      <td>-90.600000</td>\n",
       "      <td>0.000000</td>\n",
       "      <td>0.000000</td>\n",
       "      <td>0.000000</td>\n",
       "      <td>...</td>\n",
       "      <td>0.000000</td>\n",
       "      <td>0.000000</td>\n",
       "      <td>0.000000</td>\n",
       "      <td>0.000000</td>\n",
       "      <td>0.000000</td>\n",
       "      <td>0.000000</td>\n",
       "      <td>0.000000</td>\n",
       "      <td>1947.000000</td>\n",
       "      <td>1947.000000</td>\n",
       "      <td>133.000000</td>\n",
       "    </tr>\n",
       "    <tr>\n",
       "      <td>25%</td>\n",
       "      <td>6159.750000</td>\n",
       "      <td>1981.000000</td>\n",
       "      <td>24.000000</td>\n",
       "      <td>27.000000</td>\n",
       "      <td>0.000000</td>\n",
       "      <td>340.000000</td>\n",
       "      <td>9.800000</td>\n",
       "      <td>0.458000</td>\n",
       "      <td>0.005000</td>\n",
       "      <td>0.208000</td>\n",
       "      <td>...</td>\n",
       "      <td>51.000000</td>\n",
       "      <td>19.000000</td>\n",
       "      <td>9.000000</td>\n",
       "      <td>3.000000</td>\n",
       "      <td>18.000000</td>\n",
       "      <td>39.000000</td>\n",
       "      <td>106.000000</td>\n",
       "      <td>1977.000000</td>\n",
       "      <td>1984.000000</td>\n",
       "      <td>190.000000</td>\n",
       "    </tr>\n",
       "    <tr>\n",
       "      <td>50%</td>\n",
       "      <td>12318.500000</td>\n",
       "      <td>1996.000000</td>\n",
       "      <td>26.000000</td>\n",
       "      <td>58.000000</td>\n",
       "      <td>8.000000</td>\n",
       "      <td>1053.000000</td>\n",
       "      <td>12.700000</td>\n",
       "      <td>0.506000</td>\n",
       "      <td>0.064000</td>\n",
       "      <td>0.296000</td>\n",
       "      <td>...</td>\n",
       "      <td>159.000000</td>\n",
       "      <td>68.000000</td>\n",
       "      <td>29.000000</td>\n",
       "      <td>11.000000</td>\n",
       "      <td>55.000000</td>\n",
       "      <td>109.000000</td>\n",
       "      <td>364.000000</td>\n",
       "      <td>1991.000000</td>\n",
       "      <td>2001.000000</td>\n",
       "      <td>210.000000</td>\n",
       "    </tr>\n",
       "    <tr>\n",
       "      <td>75%</td>\n",
       "      <td>18477.250000</td>\n",
       "      <td>2007.000000</td>\n",
       "      <td>29.000000</td>\n",
       "      <td>75.000000</td>\n",
       "      <td>45.000000</td>\n",
       "      <td>1971.000000</td>\n",
       "      <td>15.600000</td>\n",
       "      <td>0.544000</td>\n",
       "      <td>0.288000</td>\n",
       "      <td>0.400000</td>\n",
       "      <td>...</td>\n",
       "      <td>322.000000</td>\n",
       "      <td>160.000000</td>\n",
       "      <td>60.000000</td>\n",
       "      <td>29.000000</td>\n",
       "      <td>112.000000</td>\n",
       "      <td>183.000000</td>\n",
       "      <td>779.000000</td>\n",
       "      <td>2002.000000</td>\n",
       "      <td>2012.000000</td>\n",
       "      <td>230.000000</td>\n",
       "    </tr>\n",
       "    <tr>\n",
       "      <td>max</td>\n",
       "      <td>24636.000000</td>\n",
       "      <td>2017.000000</td>\n",
       "      <td>44.000000</td>\n",
       "      <td>88.000000</td>\n",
       "      <td>83.000000</td>\n",
       "      <td>3882.000000</td>\n",
       "      <td>129.100000</td>\n",
       "      <td>1.136000</td>\n",
       "      <td>1.000000</td>\n",
       "      <td>6.000000</td>\n",
       "      <td>...</td>\n",
       "      <td>2149.000000</td>\n",
       "      <td>1164.000000</td>\n",
       "      <td>301.000000</td>\n",
       "      <td>456.000000</td>\n",
       "      <td>464.000000</td>\n",
       "      <td>386.000000</td>\n",
       "      <td>4029.000000</td>\n",
       "      <td>2017.000000</td>\n",
       "      <td>2018.000000</td>\n",
       "      <td>360.000000</td>\n",
       "    </tr>\n",
       "  </tbody>\n",
       "</table>\n",
       "<p>8 rows × 51 columns</p>\n",
       "</div>"
      ],
      "text/plain": [
       "         Unnamed: 0          year           age  games_played  games_started  \\\n",
       "count  24636.000000  24636.000000  24628.000000  24636.000000   18235.000000   \n",
       "mean   12318.500000   1992.588570     26.664812     50.843440      23.590787   \n",
       "std     7111.944952     17.431213      3.841777     26.497281      28.631883   \n",
       "min        1.000000   1950.000000     18.000000      1.000000       0.000000   \n",
       "25%     6159.750000   1981.000000     24.000000     27.000000       0.000000   \n",
       "50%    12318.500000   1996.000000     26.000000     58.000000       8.000000   \n",
       "75%    18477.250000   2007.000000     29.000000     75.000000      45.000000   \n",
       "max    24636.000000   2017.000000     44.000000     88.000000      83.000000   \n",
       "\n",
       "        mins_played  player_efficience_rating  perc_true_shooting  \\\n",
       "count  24150.000000              24113.000000        24550.000000   \n",
       "mean    1210.066957                 12.479886            0.493004   \n",
       "std      941.336357                  6.038863            0.094449   \n",
       "min        0.000000                -90.600000            0.000000   \n",
       "25%      340.000000                  9.800000            0.458000   \n",
       "50%     1053.000000                 12.700000            0.506000   \n",
       "75%     1971.000000                 15.600000            0.544000   \n",
       "max     3882.000000                129.100000            1.136000   \n",
       "\n",
       "       rate_3_point  rate_free_throw  ...      rebounds       assists  \\\n",
       "count  18841.000000     24537.000000  ...  24324.000000  24636.000000   \n",
       "mean       0.158603         0.325439  ...    224.624445    114.899618   \n",
       "std        0.187486         0.219094  ...    228.146698    135.870677   \n",
       "min        0.000000         0.000000  ...      0.000000      0.000000   \n",
       "25%        0.005000         0.208000  ...     51.000000     19.000000   \n",
       "50%        0.064000         0.296000  ...    159.000000     68.000000   \n",
       "75%        0.288000         0.400000  ...    322.000000    160.000000   \n",
       "max        1.000000         6.000000  ...   2149.000000   1164.000000   \n",
       "\n",
       "             steals        blocks     turnovers         fouls        points  \\\n",
       "count  20803.000000  20803.000000  19647.000000  24636.000000  24636.000000   \n",
       "mean      39.895928     24.466471     73.932509    116.378836    510.243140   \n",
       "std       38.710475     36.930686     67.714249     84.819435    492.935045   \n",
       "min        0.000000      0.000000      0.000000      0.000000      0.000000   \n",
       "25%        9.000000      3.000000     18.000000     39.000000    106.000000   \n",
       "50%       29.000000     11.000000     55.000000    109.000000    364.000000   \n",
       "75%       60.000000     29.000000    112.000000    183.000000    779.000000   \n",
       "max      301.000000    456.000000    464.000000    386.000000   4029.000000   \n",
       "\n",
       "         year_start      year_end        weight  \n",
       "count  24394.000000  24394.000000  24389.000000  \n",
       "mean    1988.347626   1996.664877    212.331174  \n",
       "std       17.125897     17.814915     26.479191  \n",
       "min     1947.000000   1947.000000    133.000000  \n",
       "25%     1977.000000   1984.000000    190.000000  \n",
       "50%     1991.000000   2001.000000    210.000000  \n",
       "75%     2002.000000   2012.000000    230.000000  \n",
       "max     2017.000000   2018.000000    360.000000  \n",
       "\n",
       "[8 rows x 51 columns]"
      ]
     },
     "execution_count": 7,
     "metadata": {},
     "output_type": "execute_result"
    }
   ],
   "source": [
    "data.describe()"
   ]
  },
  {
   "cell_type": "markdown",
   "metadata": {},
   "source": [
    "##### We can easily tell number of observations and get some basic characteristics with the above used functions. describe() works for numerical variables only"
   ]
  },
  {
   "cell_type": "code",
   "execution_count": 8,
   "metadata": {},
   "outputs": [],
   "source": [
    "players_per_season = data.groupby('year').count()[['player_id']]\n",
    "players_per_season['year'] = players_per_season.index.values"
   ]
  },
  {
   "cell_type": "code",
   "execution_count": 9,
   "metadata": {},
   "outputs": [
    {
     "data": {
      "text/plain": [
       "<matplotlib.axes._subplots.AxesSubplot at 0x18580058c48>"
      ]
     },
     "execution_count": 9,
     "metadata": {},
     "output_type": "execute_result"
    },
    {
     "data": {
      "image/png": "[encoded data removed]",
      "text/plain": [
       "<Figure size 720x720 with 1 Axes>"
      ]
     },
     "metadata": {
      "needs_background": "light"
     },
     "output_type": "display_data"
    }
   ],
   "source": [
    "players_per_season.plot.bar(x = 'year', y = 'player_id', figsize = (10,10))"
   ]
  },
  {
   "cell_type": "code",
   "execution_count": 10,
   "metadata": {},
   "outputs": [
    {
     "data": {
      "text/plain": [
       "'The max number of players in a season is 651 in 2015 and the min is 104 in 1961 according to our data.'"
      ]
     },
     "execution_count": 10,
     "metadata": {},
     "output_type": "execute_result"
    }
   ],
   "source": [
    "max_player_year = int(players_per_season[players_per_season['player_id'] == players_per_season['player_id'].max()]['year'])\n",
    "max_player = int(players_per_season[players_per_season['player_id'] == players_per_season['player_id'].max()]['player_id'])\n",
    "min_player_year = int(players_per_season[players_per_season['player_id'] == players_per_season['player_id'].min()]['year'])\n",
    "min_player = int(players_per_season[players_per_season['player_id'] == players_per_season['player_id'].min()]['player_id'])\n",
    "\n",
    "'The max number of players in a season is {} in {} \\\n",
    "and the min is {} in {} according to our data.'.format(max_player, max_player_year, min_player, min_player_year)"
   ]
  },
  {
   "cell_type": "markdown",
   "metadata": {},
   "source": [
    "##### Number of players can be analized by plotting them over the years e.g."
   ]
  },
  {
   "cell_type": "markdown",
   "metadata": {},
   "source": [
    "#### Let's do some analysis on the 'Points' that the players scored as our target variable"
   ]
  },
  {
   "cell_type": "code",
   "execution_count": 11,
   "metadata": {},
   "outputs": [],
   "source": [
    "all_time_points = data['points'].sum()"
   ]
  },
  {
   "cell_type": "code",
   "execution_count": 15,
   "metadata": {},
   "outputs": [],
   "source": [
    "avg_points_per_season = data.groupby('year').mean()[['points']]\n",
    "avg_points_per_season['year'] = avg_points_per_season.index.values"
   ]
  },
  {
   "cell_type": "code",
   "execution_count": 16,
   "metadata": {},
   "outputs": [],
   "source": [
    "points_per_season = data.groupby('year').sum()[['points']]\n",
    "points_per_season['year'] = points_per_season.index.values"
   ]
  },
  {
   "cell_type": "code",
   "execution_count": 17,
   "metadata": {},
   "outputs": [
    {
     "data": {
      "text/plain": [
       "'Altogether, there were 12570350 points scored all time in the NBA. The highest average points in a season is 735.0 in 1967.0 and the lowest is 277.0 in 1999.0 according to our data.'"
      ]
     },
     "execution_count": 17,
     "metadata": {},
     "output_type": "execute_result"
    }
   ],
   "source": [
    "max_points = avg_points_per_season.loc[avg_points_per_season['points'].idxmax()]['points']\n",
    "max_points_year = avg_points_per_season.loc[avg_points_per_season['points'].idxmax()]['year']\n",
    "min_points = avg_points_per_season.loc[avg_points_per_season['points'].idxmin()]['points']\n",
    "min_points_year = avg_points_per_season.loc[avg_points_per_season['points'].idxmin()]['year']\n",
    "\n",
    "'Altogether, there were {} points scored all time in the NBA. \\\n",
    "The highest average points in a season is {} in {} \\\n",
    "and the lowest is {} in {} according to our data.'.format(all_time_points, round(max_points),\n",
    "                                                       max_points_year, round(min_points), min_points_year)"
   ]
  },
  {
   "cell_type": "code",
   "execution_count": 20,
   "metadata": {},
   "outputs": [
    {
     "data": {
      "image/png": "[encoded data removed]",
      "text/plain": [
       "<Figure size 720x720 with 1 Axes>"
      ]
     },
     "metadata": {
      "needs_background": "light"
     },
     "output_type": "display_data"
    }
   ],
   "source": [
    "avg_points_per_season_plot = avg_points_per_season.plot.bar(x = 'year', y = 'points', figsize = (10, 10))"
   ]
  },
  {
   "cell_type": "code",
   "execution_count": 21,
   "metadata": {},
   "outputs": [
    {
     "data": {
      "image/png": "[encoded data removed]",
      "text/plain": [
       "<Figure size 720x720 with 1 Axes>"
      ]
     },
     "metadata": {
      "needs_background": "light"
     },
     "output_type": "display_data"
    }
   ],
   "source": [
    "points_per_season_plot = points_per_season.plot.bar(x = 'year', y = 'points', figsize = (10, 10))"
   ]
  },
  {
   "cell_type": "code",
   "execution_count": 22,
   "metadata": {},
   "outputs": [
    {
     "data": {
      "text/plain": [
       "count    24636.000000\n",
       "mean       510.243140\n",
       "std        492.935045\n",
       "min          0.000000\n",
       "25%        106.000000\n",
       "50%        364.000000\n",
       "75%        779.000000\n",
       "max       4029.000000\n",
       "Name: points, dtype: float64"
      ]
     },
     "execution_count": 22,
     "metadata": {},
     "output_type": "execute_result"
    }
   ],
   "source": [
    "data['points'].describe()"
   ]
  },
  {
   "cell_type": "code",
   "execution_count": 23,
   "metadata": {},
   "outputs": [
    {
     "data": {
      "image/png": "[encoded data removed]",
      "text/plain": [
       "<Figure size 432x288 with 1 Axes>"
      ]
     },
     "metadata": {
      "needs_background": "light"
     },
     "output_type": "display_data"
    }
   ],
   "source": [
    "points_hist =plt.hist(data['points'], color = 'blue', edgecolor = 'black',\n",
    "         bins = 20)"
   ]
  },
  {
   "cell_type": "markdown",
   "metadata": {},
   "source": [
    "### Other Numerical Distributions"
   ]
  },
  {
   "cell_type": "code",
   "execution_count": 24,
   "metadata": {},
   "outputs": [
    {
     "data": {
      "text/html": [
       "<div>\n",
       "<style scoped>\n",
       "    .dataframe tbody tr th:only-of-type {\n",
       "        vertical-align: middle;\n",
       "    }\n",
       "\n",
       "    .dataframe tbody tr th {\n",
       "        vertical-align: top;\n",
       "    }\n",
       "\n",
       "    .dataframe thead th {\n",
       "        text-align: right;\n",
       "    }\n",
       "</style>\n",
       "<table border=\"1\" class=\"dataframe\">\n",
       "  <thead>\n",
       "    <tr style=\"text-align: right;\">\n",
       "      <th></th>\n",
       "      <th>Unnamed: 0</th>\n",
       "      <th>year</th>\n",
       "      <th>age</th>\n",
       "      <th>games_played</th>\n",
       "      <th>games_started</th>\n",
       "      <th>mins_played</th>\n",
       "      <th>player_efficience_rating</th>\n",
       "      <th>perc_true_shooting</th>\n",
       "      <th>rate_3_point</th>\n",
       "      <th>rate_free_throw</th>\n",
       "      <th>...</th>\n",
       "      <th>rebounds</th>\n",
       "      <th>assists</th>\n",
       "      <th>steals</th>\n",
       "      <th>blocks</th>\n",
       "      <th>turnovers</th>\n",
       "      <th>fouls</th>\n",
       "      <th>points</th>\n",
       "      <th>year_start</th>\n",
       "      <th>year_end</th>\n",
       "      <th>weight</th>\n",
       "    </tr>\n",
       "  </thead>\n",
       "  <tbody>\n",
       "    <tr>\n",
       "      <td>count</td>\n",
       "      <td>24636.000000</td>\n",
       "      <td>24636.000000</td>\n",
       "      <td>24628.000000</td>\n",
       "      <td>24636.000000</td>\n",
       "      <td>18235.000000</td>\n",
       "      <td>24150.000000</td>\n",
       "      <td>24113.000000</td>\n",
       "      <td>24550.000000</td>\n",
       "      <td>18841.000000</td>\n",
       "      <td>24537.000000</td>\n",
       "      <td>...</td>\n",
       "      <td>24324.000000</td>\n",
       "      <td>24636.000000</td>\n",
       "      <td>20803.000000</td>\n",
       "      <td>20803.000000</td>\n",
       "      <td>19647.000000</td>\n",
       "      <td>24636.000000</td>\n",
       "      <td>24636.000000</td>\n",
       "      <td>24394.000000</td>\n",
       "      <td>24394.000000</td>\n",
       "      <td>24389.000000</td>\n",
       "    </tr>\n",
       "    <tr>\n",
       "      <td>mean</td>\n",
       "      <td>12318.500000</td>\n",
       "      <td>1992.588570</td>\n",
       "      <td>26.664812</td>\n",
       "      <td>50.843440</td>\n",
       "      <td>23.590787</td>\n",
       "      <td>1210.066957</td>\n",
       "      <td>12.479886</td>\n",
       "      <td>0.493004</td>\n",
       "      <td>0.158603</td>\n",
       "      <td>0.325439</td>\n",
       "      <td>...</td>\n",
       "      <td>224.624445</td>\n",
       "      <td>114.899618</td>\n",
       "      <td>39.895928</td>\n",
       "      <td>24.466471</td>\n",
       "      <td>73.932509</td>\n",
       "      <td>116.378836</td>\n",
       "      <td>510.243140</td>\n",
       "      <td>1988.347626</td>\n",
       "      <td>1996.664877</td>\n",
       "      <td>212.331174</td>\n",
       "    </tr>\n",
       "    <tr>\n",
       "      <td>std</td>\n",
       "      <td>7111.944952</td>\n",
       "      <td>17.431213</td>\n",
       "      <td>3.841777</td>\n",
       "      <td>26.497281</td>\n",
       "      <td>28.631883</td>\n",
       "      <td>941.336357</td>\n",
       "      <td>6.038863</td>\n",
       "      <td>0.094449</td>\n",
       "      <td>0.187486</td>\n",
       "      <td>0.219094</td>\n",
       "      <td>...</td>\n",
       "      <td>228.146698</td>\n",
       "      <td>135.870677</td>\n",
       "      <td>38.710475</td>\n",
       "      <td>36.930686</td>\n",
       "      <td>67.714249</td>\n",
       "      <td>84.819435</td>\n",
       "      <td>492.935045</td>\n",
       "      <td>17.125897</td>\n",
       "      <td>17.814915</td>\n",
       "      <td>26.479191</td>\n",
       "    </tr>\n",
       "    <tr>\n",
       "      <td>min</td>\n",
       "      <td>1.000000</td>\n",
       "      <td>1950.000000</td>\n",
       "      <td>18.000000</td>\n",
       "      <td>1.000000</td>\n",
       "      <td>0.000000</td>\n",
       "      <td>0.000000</td>\n",
       "      <td>-90.600000</td>\n",
       "      <td>0.000000</td>\n",
       "      <td>0.000000</td>\n",
       "      <td>0.000000</td>\n",
       "      <td>...</td>\n",
       "      <td>0.000000</td>\n",
       "      <td>0.000000</td>\n",
       "      <td>0.000000</td>\n",
       "      <td>0.000000</td>\n",
       "      <td>0.000000</td>\n",
       "      <td>0.000000</td>\n",
       "      <td>0.000000</td>\n",
       "      <td>1947.000000</td>\n",
       "      <td>1947.000000</td>\n",
       "      <td>133.000000</td>\n",
       "    </tr>\n",
       "    <tr>\n",
       "      <td>25%</td>\n",
       "      <td>6159.750000</td>\n",
       "      <td>1981.000000</td>\n",
       "      <td>24.000000</td>\n",
       "      <td>27.000000</td>\n",
       "      <td>0.000000</td>\n",
       "      <td>340.000000</td>\n",
       "      <td>9.800000</td>\n",
       "      <td>0.458000</td>\n",
       "      <td>0.005000</td>\n",
       "      <td>0.208000</td>\n",
       "      <td>...</td>\n",
       "      <td>51.000000</td>\n",
       "      <td>19.000000</td>\n",
       "      <td>9.000000</td>\n",
       "      <td>3.000000</td>\n",
       "      <td>18.000000</td>\n",
       "      <td>39.000000</td>\n",
       "      <td>106.000000</td>\n",
       "      <td>1977.000000</td>\n",
       "      <td>1984.000000</td>\n",
       "      <td>190.000000</td>\n",
       "    </tr>\n",
       "    <tr>\n",
       "      <td>50%</td>\n",
       "      <td>12318.500000</td>\n",
       "      <td>1996.000000</td>\n",
       "      <td>26.000000</td>\n",
       "      <td>58.000000</td>\n",
       "      <td>8.000000</td>\n",
       "      <td>1053.000000</td>\n",
       "      <td>12.700000</td>\n",
       "      <td>0.506000</td>\n",
       "      <td>0.064000</td>\n",
       "      <td>0.296000</td>\n",
       "      <td>...</td>\n",
       "      <td>159.000000</td>\n",
       "      <td>68.000000</td>\n",
       "      <td>29.000000</td>\n",
       "      <td>11.000000</td>\n",
       "      <td>55.000000</td>\n",
       "      <td>109.000000</td>\n",
       "      <td>364.000000</td>\n",
       "      <td>1991.000000</td>\n",
       "      <td>2001.000000</td>\n",
       "      <td>210.000000</td>\n",
       "    </tr>\n",
       "    <tr>\n",
       "      <td>75%</td>\n",
       "      <td>18477.250000</td>\n",
       "      <td>2007.000000</td>\n",
       "      <td>29.000000</td>\n",
       "      <td>75.000000</td>\n",
       "      <td>45.000000</td>\n",
       "      <td>1971.000000</td>\n",
       "      <td>15.600000</td>\n",
       "      <td>0.544000</td>\n",
       "      <td>0.288000</td>\n",
       "      <td>0.400000</td>\n",
       "      <td>...</td>\n",
       "      <td>322.000000</td>\n",
       "      <td>160.000000</td>\n",
       "      <td>60.000000</td>\n",
       "      <td>29.000000</td>\n",
       "      <td>112.000000</td>\n",
       "      <td>183.000000</td>\n",
       "      <td>779.000000</td>\n",
       "      <td>2002.000000</td>\n",
       "      <td>2012.000000</td>\n",
       "      <td>230.000000</td>\n",
       "    </tr>\n",
       "    <tr>\n",
       "      <td>max</td>\n",
       "      <td>24636.000000</td>\n",
       "      <td>2017.000000</td>\n",
       "      <td>44.000000</td>\n",
       "      <td>88.000000</td>\n",
       "      <td>83.000000</td>\n",
       "      <td>3882.000000</td>\n",
       "      <td>129.100000</td>\n",
       "      <td>1.136000</td>\n",
       "      <td>1.000000</td>\n",
       "      <td>6.000000</td>\n",
       "      <td>...</td>\n",
       "      <td>2149.000000</td>\n",
       "      <td>1164.000000</td>\n",
       "      <td>301.000000</td>\n",
       "      <td>456.000000</td>\n",
       "      <td>464.000000</td>\n",
       "      <td>386.000000</td>\n",
       "      <td>4029.000000</td>\n",
       "      <td>2017.000000</td>\n",
       "      <td>2018.000000</td>\n",
       "      <td>360.000000</td>\n",
       "    </tr>\n",
       "  </tbody>\n",
       "</table>\n",
       "<p>8 rows × 51 columns</p>\n",
       "</div>"
      ],
      "text/plain": [
       "         Unnamed: 0          year           age  games_played  games_started  \\\n",
       "count  24636.000000  24636.000000  24628.000000  24636.000000   18235.000000   \n",
       "mean   12318.500000   1992.588570     26.664812     50.843440      23.590787   \n",
       "std     7111.944952     17.431213      3.841777     26.497281      28.631883   \n",
       "min        1.000000   1950.000000     18.000000      1.000000       0.000000   \n",
       "25%     6159.750000   1981.000000     24.000000     27.000000       0.000000   \n",
       "50%    12318.500000   1996.000000     26.000000     58.000000       8.000000   \n",
       "75%    18477.250000   2007.000000     29.000000     75.000000      45.000000   \n",
       "max    24636.000000   2017.000000     44.000000     88.000000      83.000000   \n",
       "\n",
       "        mins_played  player_efficience_rating  perc_true_shooting  \\\n",
       "count  24150.000000              24113.000000        24550.000000   \n",
       "mean    1210.066957                 12.479886            0.493004   \n",
       "std      941.336357                  6.038863            0.094449   \n",
       "min        0.000000                -90.600000            0.000000   \n",
       "25%      340.000000                  9.800000            0.458000   \n",
       "50%     1053.000000                 12.700000            0.506000   \n",
       "75%     1971.000000                 15.600000            0.544000   \n",
       "max     3882.000000                129.100000            1.136000   \n",
       "\n",
       "       rate_3_point  rate_free_throw  ...      rebounds       assists  \\\n",
       "count  18841.000000     24537.000000  ...  24324.000000  24636.000000   \n",
       "mean       0.158603         0.325439  ...    224.624445    114.899618   \n",
       "std        0.187486         0.219094  ...    228.146698    135.870677   \n",
       "min        0.000000         0.000000  ...      0.000000      0.000000   \n",
       "25%        0.005000         0.208000  ...     51.000000     19.000000   \n",
       "50%        0.064000         0.296000  ...    159.000000     68.000000   \n",
       "75%        0.288000         0.400000  ...    322.000000    160.000000   \n",
       "max        1.000000         6.000000  ...   2149.000000   1164.000000   \n",
       "\n",
       "             steals        blocks     turnovers         fouls        points  \\\n",
       "count  20803.000000  20803.000000  19647.000000  24636.000000  24636.000000   \n",
       "mean      39.895928     24.466471     73.932509    116.378836    510.243140   \n",
       "std       38.710475     36.930686     67.714249     84.819435    492.935045   \n",
       "min        0.000000      0.000000      0.000000      0.000000      0.000000   \n",
       "25%        9.000000      3.000000     18.000000     39.000000    106.000000   \n",
       "50%       29.000000     11.000000     55.000000    109.000000    364.000000   \n",
       "75%       60.000000     29.000000    112.000000    183.000000    779.000000   \n",
       "max      301.000000    456.000000    464.000000    386.000000   4029.000000   \n",
       "\n",
       "         year_start      year_end        weight  \n",
       "count  24394.000000  24394.000000  24389.000000  \n",
       "mean    1988.347626   1996.664877    212.331174  \n",
       "std       17.125897     17.814915     26.479191  \n",
       "min     1947.000000   1947.000000    133.000000  \n",
       "25%     1977.000000   1984.000000    190.000000  \n",
       "50%     1991.000000   2001.000000    210.000000  \n",
       "75%     2002.000000   2012.000000    230.000000  \n",
       "max     2017.000000   2018.000000    360.000000  \n",
       "\n",
       "[8 rows x 51 columns]"
      ]
     },
     "execution_count": 24,
     "metadata": {},
     "output_type": "execute_result"
    }
   ],
   "source": [
    "data.describe()"
   ]
  },
  {
   "cell_type": "code",
   "execution_count": 26,
   "metadata": {},
   "outputs": [
    {
     "data": {
      "image/png": "[encoded data removed]",
      "text/plain": [
       "<Figure size 1440x1080 with 56 Axes>"
      ]
     },
     "metadata": {
      "needs_background": "light"
     },
     "output_type": "display_data"
    }
   ],
   "source": [
    "hist = data.hist(bins=15, figsize = (20,15))"
   ]
  },
  {
   "cell_type": "code",
   "execution_count": null,
   "metadata": {},
   "outputs": [],
   "source": [
    "# SOME BASIC OBSERVATIONS ABOUT NUMERICAL DISTRIBUTIONS\n",
    "# - There are no binary variables\n",
    "# - Most variables seem to follow either a normal or a lognormal distribution\n",
    "# - There doesn't seem to be any outliers. There are some extreme values, but those are important data points\n",
    "# - The data seems to be correct without any measurement errors.\n"
   ]
  },
  {
   "cell_type": "code",
   "execution_count": 27,
   "metadata": {},
   "outputs": [
    {
     "data": {
      "text/plain": [
       "<matplotlib.axes._subplots.AxesSubplot at 0x18585550ec8>"
      ]
     },
     "execution_count": 27,
     "metadata": {},
     "output_type": "execute_result"
    },
    {
     "data": {
      "image/png": "[encoded data removed]",
      "text/plain": [
       "<Figure size 432x288 with 1 Axes>"
      ]
     },
     "metadata": {
      "needs_background": "light"
     },
     "output_type": "display_data"
    }
   ],
   "source": [
    "# Single columns can be plotted as well, if we want to look at them individually\n",
    "data['win_share'].hist(bins = 10)"
   ]
  },
  {
   "cell_type": "code",
   "execution_count": 46,
   "metadata": {},
   "outputs": [
    {
     "ename": "ValueError",
     "evalue": "'c' argument must be a mpl color, a sequence of mpl colors or a sequence of numbers, not 0        LAL\n1        LAL\n2        LAL\n3        LAL\n4        LAL\n        ... \n24631    CLE\n24632    CLE\n24633    CLE\n24634    CLE\n24635    MIA\nName: team, Length: 24636, dtype: object.",
     "output_type": "error",
     "traceback": [
      "\u001b[1;31m---------------------------------------------------------------------------\u001b[0m",
      "\u001b[1;31mValueError\u001b[0m                                Traceback (most recent call last)",
      "\u001b[1;32m~\\AppData\\Local\\Continuum\\anaconda3\\lib\\site-packages\\matplotlib\\axes\\_axes.py\u001b[0m in \u001b[0;36m_parse_scatter_color_args\u001b[1;34m(c, edgecolors, kwargs, xshape, yshape, get_next_color_func)\u001b[0m\n\u001b[0;32m   4284\u001b[0m             \u001b[1;32mtry\u001b[0m\u001b[1;33m:\u001b[0m  \u001b[1;31m# Then is 'c' acceptable as PathCollection facecolors?\u001b[0m\u001b[1;33m\u001b[0m\u001b[1;33m\u001b[0m\u001b[0m\n\u001b[1;32m-> 4285\u001b[1;33m                 \u001b[0mcolors\u001b[0m \u001b[1;33m=\u001b[0m \u001b[0mmcolors\u001b[0m\u001b[1;33m.\u001b[0m\u001b[0mto_rgba_array\u001b[0m\u001b[1;33m(\u001b[0m\u001b[0mc\u001b[0m\u001b[1;33m)\u001b[0m\u001b[1;33m\u001b[0m\u001b[1;33m\u001b[0m\u001b[0m\n\u001b[0m\u001b[0;32m   4286\u001b[0m                 \u001b[0mn_elem\u001b[0m \u001b[1;33m=\u001b[0m \u001b[0mcolors\u001b[0m\u001b[1;33m.\u001b[0m\u001b[0mshape\u001b[0m\u001b[1;33m[\u001b[0m\u001b[1;36m0\u001b[0m\u001b[1;33m]\u001b[0m\u001b[1;33m\u001b[0m\u001b[1;33m\u001b[0m\u001b[0m\n",
      "\u001b[1;32m~\\AppData\\Local\\Continuum\\anaconda3\\lib\\site-packages\\matplotlib\\colors.py\u001b[0m in \u001b[0;36mto_rgba_array\u001b[1;34m(c, alpha)\u001b[0m\n\u001b[0;32m    293\u001b[0m     \u001b[1;32mfor\u001b[0m \u001b[0mi\u001b[0m\u001b[1;33m,\u001b[0m \u001b[0mcc\u001b[0m \u001b[1;32min\u001b[0m \u001b[0menumerate\u001b[0m\u001b[1;33m(\u001b[0m\u001b[0mc\u001b[0m\u001b[1;33m)\u001b[0m\u001b[1;33m:\u001b[0m\u001b[1;33m\u001b[0m\u001b[1;33m\u001b[0m\u001b[0m\n\u001b[1;32m--> 294\u001b[1;33m         \u001b[0mresult\u001b[0m\u001b[1;33m[\u001b[0m\u001b[0mi\u001b[0m\u001b[1;33m]\u001b[0m \u001b[1;33m=\u001b[0m \u001b[0mto_rgba\u001b[0m\u001b[1;33m(\u001b[0m\u001b[0mcc\u001b[0m\u001b[1;33m,\u001b[0m \u001b[0malpha\u001b[0m\u001b[1;33m)\u001b[0m\u001b[1;33m\u001b[0m\u001b[1;33m\u001b[0m\u001b[0m\n\u001b[0m\u001b[0;32m    295\u001b[0m     \u001b[1;32mreturn\u001b[0m \u001b[0mresult\u001b[0m\u001b[1;33m\u001b[0m\u001b[1;33m\u001b[0m\u001b[0m\n",
      "\u001b[1;32m~\\AppData\\Local\\Continuum\\anaconda3\\lib\\site-packages\\matplotlib\\colors.py\u001b[0m in \u001b[0;36mto_rgba\u001b[1;34m(c, alpha)\u001b[0m\n\u001b[0;32m    176\u001b[0m     \u001b[1;32mif\u001b[0m \u001b[0mrgba\u001b[0m \u001b[1;32mis\u001b[0m \u001b[1;32mNone\u001b[0m\u001b[1;33m:\u001b[0m  \u001b[1;31m# Suppress exception chaining of cache lookup failure.\u001b[0m\u001b[1;33m\u001b[0m\u001b[1;33m\u001b[0m\u001b[0m\n\u001b[1;32m--> 177\u001b[1;33m         \u001b[0mrgba\u001b[0m \u001b[1;33m=\u001b[0m \u001b[0m_to_rgba_no_colorcycle\u001b[0m\u001b[1;33m(\u001b[0m\u001b[0mc\u001b[0m\u001b[1;33m,\u001b[0m \u001b[0malpha\u001b[0m\u001b[1;33m)\u001b[0m\u001b[1;33m\u001b[0m\u001b[1;33m\u001b[0m\u001b[0m\n\u001b[0m\u001b[0;32m    178\u001b[0m         \u001b[1;32mtry\u001b[0m\u001b[1;33m:\u001b[0m\u001b[1;33m\u001b[0m\u001b[1;33m\u001b[0m\u001b[0m\n",
      "\u001b[1;32m~\\AppData\\Local\\Continuum\\anaconda3\\lib\\site-packages\\matplotlib\\colors.py\u001b[0m in \u001b[0;36m_to_rgba_no_colorcycle\u001b[1;34m(c, alpha)\u001b[0m\n\u001b[0;32m    232\u001b[0m             \u001b[1;32mpass\u001b[0m\u001b[1;33m\u001b[0m\u001b[1;33m\u001b[0m\u001b[0m\n\u001b[1;32m--> 233\u001b[1;33m         \u001b[1;32mraise\u001b[0m \u001b[0mValueError\u001b[0m\u001b[1;33m(\u001b[0m\u001b[1;34m\"Invalid RGBA argument: {!r}\"\u001b[0m\u001b[1;33m.\u001b[0m\u001b[0mformat\u001b[0m\u001b[1;33m(\u001b[0m\u001b[0morig_c\u001b[0m\u001b[1;33m)\u001b[0m\u001b[1;33m)\u001b[0m\u001b[1;33m\u001b[0m\u001b[1;33m\u001b[0m\u001b[0m\n\u001b[0m\u001b[0;32m    234\u001b[0m     \u001b[1;31m# tuple color.\u001b[0m\u001b[1;33m\u001b[0m\u001b[1;33m\u001b[0m\u001b[1;33m\u001b[0m\u001b[0m\n",
      "\u001b[1;31mValueError\u001b[0m: Invalid RGBA argument: 'LAL'",
      "\nDuring handling of the above exception, another exception occurred:\n",
      "\u001b[1;31mValueError\u001b[0m                                Traceback (most recent call last)",
      "\u001b[1;32m<ipython-input-46-785ebb6f24eb>\u001b[0m in \u001b[0;36m<module>\u001b[1;34m\u001b[0m\n\u001b[1;32m----> 1\u001b[1;33m \u001b[0mplt\u001b[0m\u001b[1;33m.\u001b[0m\u001b[0mscatter\u001b[0m\u001b[1;33m(\u001b[0m\u001b[0mdata\u001b[0m\u001b[1;33m[\u001b[0m\u001b[1;34m'games_played'\u001b[0m\u001b[1;33m]\u001b[0m\u001b[1;33m,\u001b[0m \u001b[0mdata\u001b[0m\u001b[1;33m[\u001b[0m\u001b[1;34m'points'\u001b[0m\u001b[1;33m]\u001b[0m\u001b[1;33m,\u001b[0m \u001b[0mc\u001b[0m \u001b[1;33m=\u001b[0m \u001b[0mdata\u001b[0m\u001b[1;33m[\u001b[0m\u001b[1;34m'team'\u001b[0m\u001b[1;33m]\u001b[0m\u001b[1;33m)\u001b[0m\u001b[1;33m\u001b[0m\u001b[1;33m\u001b[0m\u001b[0m\n\u001b[0m\u001b[0;32m      2\u001b[0m \u001b[1;31m# Creating a decade variable might make sense for these colored plots more\u001b[0m\u001b[1;33m\u001b[0m\u001b[1;33m\u001b[0m\u001b[1;33m\u001b[0m\u001b[0m\n",
      "\u001b[1;32m~\\AppData\\Local\\Continuum\\anaconda3\\lib\\site-packages\\matplotlib\\pyplot.py\u001b[0m in \u001b[0;36mscatter\u001b[1;34m(x, y, s, c, marker, cmap, norm, vmin, vmax, alpha, linewidths, verts, edgecolors, plotnonfinite, data, **kwargs)\u001b[0m\n\u001b[0;32m   2845\u001b[0m         \u001b[0mverts\u001b[0m\u001b[1;33m=\u001b[0m\u001b[0mverts\u001b[0m\u001b[1;33m,\u001b[0m \u001b[0medgecolors\u001b[0m\u001b[1;33m=\u001b[0m\u001b[0medgecolors\u001b[0m\u001b[1;33m,\u001b[0m\u001b[1;33m\u001b[0m\u001b[1;33m\u001b[0m\u001b[0m\n\u001b[0;32m   2846\u001b[0m         plotnonfinite=plotnonfinite, **({\"data\": data} if data is not\n\u001b[1;32m-> 2847\u001b[1;33m         None else {}), **kwargs)\n\u001b[0m\u001b[0;32m   2848\u001b[0m     \u001b[0msci\u001b[0m\u001b[1;33m(\u001b[0m\u001b[0m__ret\u001b[0m\u001b[1;33m)\u001b[0m\u001b[1;33m\u001b[0m\u001b[1;33m\u001b[0m\u001b[0m\n\u001b[0;32m   2849\u001b[0m     \u001b[1;32mreturn\u001b[0m \u001b[0m__ret\u001b[0m\u001b[1;33m\u001b[0m\u001b[1;33m\u001b[0m\u001b[0m\n",
      "\u001b[1;32m~\\AppData\\Local\\Continuum\\anaconda3\\lib\\site-packages\\matplotlib\\__init__.py\u001b[0m in \u001b[0;36minner\u001b[1;34m(ax, data, *args, **kwargs)\u001b[0m\n\u001b[0;32m   1599\u001b[0m     \u001b[1;32mdef\u001b[0m \u001b[0minner\u001b[0m\u001b[1;33m(\u001b[0m\u001b[0max\u001b[0m\u001b[1;33m,\u001b[0m \u001b[1;33m*\u001b[0m\u001b[0margs\u001b[0m\u001b[1;33m,\u001b[0m \u001b[0mdata\u001b[0m\u001b[1;33m=\u001b[0m\u001b[1;32mNone\u001b[0m\u001b[1;33m,\u001b[0m \u001b[1;33m**\u001b[0m\u001b[0mkwargs\u001b[0m\u001b[1;33m)\u001b[0m\u001b[1;33m:\u001b[0m\u001b[1;33m\u001b[0m\u001b[1;33m\u001b[0m\u001b[0m\n\u001b[0;32m   1600\u001b[0m         \u001b[1;32mif\u001b[0m \u001b[0mdata\u001b[0m \u001b[1;32mis\u001b[0m \u001b[1;32mNone\u001b[0m\u001b[1;33m:\u001b[0m\u001b[1;33m\u001b[0m\u001b[1;33m\u001b[0m\u001b[0m\n\u001b[1;32m-> 1601\u001b[1;33m             \u001b[1;32mreturn\u001b[0m \u001b[0mfunc\u001b[0m\u001b[1;33m(\u001b[0m\u001b[0max\u001b[0m\u001b[1;33m,\u001b[0m \u001b[1;33m*\u001b[0m\u001b[0mmap\u001b[0m\u001b[1;33m(\u001b[0m\u001b[0msanitize_sequence\u001b[0m\u001b[1;33m,\u001b[0m \u001b[0margs\u001b[0m\u001b[1;33m)\u001b[0m\u001b[1;33m,\u001b[0m \u001b[1;33m**\u001b[0m\u001b[0mkwargs\u001b[0m\u001b[1;33m)\u001b[0m\u001b[1;33m\u001b[0m\u001b[1;33m\u001b[0m\u001b[0m\n\u001b[0m\u001b[0;32m   1602\u001b[0m \u001b[1;33m\u001b[0m\u001b[0m\n\u001b[0;32m   1603\u001b[0m         \u001b[0mbound\u001b[0m \u001b[1;33m=\u001b[0m \u001b[0mnew_sig\u001b[0m\u001b[1;33m.\u001b[0m\u001b[0mbind\u001b[0m\u001b[1;33m(\u001b[0m\u001b[0max\u001b[0m\u001b[1;33m,\u001b[0m \u001b[1;33m*\u001b[0m\u001b[0margs\u001b[0m\u001b[1;33m,\u001b[0m \u001b[1;33m**\u001b[0m\u001b[0mkwargs\u001b[0m\u001b[1;33m)\u001b[0m\u001b[1;33m\u001b[0m\u001b[1;33m\u001b[0m\u001b[0m\n",
      "\u001b[1;32m~\\AppData\\Local\\Continuum\\anaconda3\\lib\\site-packages\\matplotlib\\axes\\_axes.py\u001b[0m in \u001b[0;36mscatter\u001b[1;34m(self, x, y, s, c, marker, cmap, norm, vmin, vmax, alpha, linewidths, verts, edgecolors, plotnonfinite, **kwargs)\u001b[0m\n\u001b[0;32m   4452\u001b[0m             self._parse_scatter_color_args(\n\u001b[0;32m   4453\u001b[0m                 \u001b[0mc\u001b[0m\u001b[1;33m,\u001b[0m \u001b[0medgecolors\u001b[0m\u001b[1;33m,\u001b[0m \u001b[0mkwargs\u001b[0m\u001b[1;33m,\u001b[0m \u001b[0mxshape\u001b[0m\u001b[1;33m,\u001b[0m \u001b[0myshape\u001b[0m\u001b[1;33m,\u001b[0m\u001b[1;33m\u001b[0m\u001b[1;33m\u001b[0m\u001b[0m\n\u001b[1;32m-> 4454\u001b[1;33m                 get_next_color_func=self._get_patches_for_fill.get_next_color)\n\u001b[0m\u001b[0;32m   4455\u001b[0m \u001b[1;33m\u001b[0m\u001b[0m\n\u001b[0;32m   4456\u001b[0m         \u001b[1;32mif\u001b[0m \u001b[0mplotnonfinite\u001b[0m \u001b[1;32mand\u001b[0m \u001b[0mcolors\u001b[0m \u001b[1;32mis\u001b[0m \u001b[1;32mNone\u001b[0m\u001b[1;33m:\u001b[0m\u001b[1;33m\u001b[0m\u001b[1;33m\u001b[0m\u001b[0m\n",
      "\u001b[1;32m~\\AppData\\Local\\Continuum\\anaconda3\\lib\\site-packages\\matplotlib\\axes\\_axes.py\u001b[0m in \u001b[0;36m_parse_scatter_color_args\u001b[1;34m(c, edgecolors, kwargs, xshape, yshape, get_next_color_func)\u001b[0m\n\u001b[0;32m   4304\u001b[0m                         \u001b[1;34m\"'c' argument must be a mpl color, a sequence of mpl \"\u001b[0m\u001b[1;33m\u001b[0m\u001b[1;33m\u001b[0m\u001b[0m\n\u001b[0;32m   4305\u001b[0m                         \u001b[1;34m\"colors or a sequence of numbers, not {}.\"\u001b[0m\u001b[1;33m\u001b[0m\u001b[1;33m\u001b[0m\u001b[0m\n\u001b[1;32m-> 4306\u001b[1;33m                             \u001b[1;33m.\u001b[0m\u001b[0mformat\u001b[0m\u001b[1;33m(\u001b[0m\u001b[0mc\u001b[0m\u001b[1;33m)\u001b[0m  \u001b[1;31m# note: could be long depending on c\u001b[0m\u001b[1;33m\u001b[0m\u001b[1;33m\u001b[0m\u001b[0m\n\u001b[0m\u001b[0;32m   4307\u001b[0m                     )\n\u001b[0;32m   4308\u001b[0m         \u001b[1;32melse\u001b[0m\u001b[1;33m:\u001b[0m\u001b[1;33m\u001b[0m\u001b[1;33m\u001b[0m\u001b[0m\n",
      "\u001b[1;31mValueError\u001b[0m: 'c' argument must be a mpl color, a sequence of mpl colors or a sequence of numbers, not 0        LAL\n1        LAL\n2        LAL\n3        LAL\n4        LAL\n        ... \n24631    CLE\n24632    CLE\n24633    CLE\n24634    CLE\n24635    MIA\nName: team, Length: 24636, dtype: object."
     ]
    },
    {
     "data": {
      "image/png": "[encoded data removed]",
      "text/plain": [
       "<Figure size 432x288 with 1 Axes>"
      ]
     },
     "metadata": {
      "needs_background": "light"
     },
     "output_type": "display_data"
    }
   ],
   "source": [
    "plt.scatter(data['games_played'], data['points'], c = data['team'])\n",
    "# Creating a decade variable might make sense for these colored plots more\n"
   ]
  },
  {
   "cell_type": "code",
   "execution_count": 43,
   "metadata": {},
   "outputs": [
    {
     "data": {
      "text/plain": [
       "<matplotlib.axes._subplots.AxesSubplot at 0x18580ad6188>"
      ]
     },
     "execution_count": 43,
     "metadata": {},
     "output_type": "execute_result"
    },
    {
     "data": {
      "image/png": "[encoded data removed]",
      "text/plain": [
       "<Figure size 432x288 with 1 Axes>"
      ]
     },
     "metadata": {
      "needs_background": "light"
     },
     "output_type": "display_data"
    }
   ],
   "source": [
    "data['decade'] = data['year']\n",
    "data['decade'].hist()"
   ]
  },
  {
   "cell_type": "code",
   "execution_count": 45,
   "metadata": {},
   "outputs": [
    {
     "data": {
      "text/plain": [
       "68"
      ]
     },
     "execution_count": 45,
     "metadata": {},
     "output_type": "execute_result"
    }
   ],
   "source": [
    "len(data['decade'].unique())"
   ]
  },
  {
   "cell_type": "code",
   "execution_count": null,
   "metadata": {},
   "outputs": [],
   "source": []
  }
 ],
 "metadata": {
  "kernelspec": {
   "display_name": "Python 3",
   "language": "python",
   "name": "python3"
  },
  "language_info": {
   "codemirror_mode": {
    "name": "ipython",
    "version": 3
   },
   "file_extension": ".py",
   "mimetype": "text/x-python",
   "name": "python",
   "nbconvert_exporter": "python",
   "pygments_lexer": "ipython3",
   "version": "3.7.4"
  }
 },
 "nbformat": 4,
 "nbformat_minor": 2
}
