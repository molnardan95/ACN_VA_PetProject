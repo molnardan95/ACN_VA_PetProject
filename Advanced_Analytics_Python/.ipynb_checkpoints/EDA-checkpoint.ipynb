{
 "cells": [
  {
   "cell_type": "markdown",
   "metadata": {},
   "source": [
    "#### Import packages"
   ]
  },
  {
   "cell_type": "code",
   "execution_count": null,
   "metadata": {},
   "outputs": [],
   "source": []
  },
  {
   "cell_type": "code",
   "execution_count": null,
   "metadata": {},
   "outputs": [],
   "source": [
    "import pandas as pd\n",
    "import numpy as np\n",
    "#import plotly as px\n"
   ]
  },
  {
   "cell_type": "markdown",
   "metadata": {},
   "source": [
    "#### Load Data"
   ]
  },
  {
   "cell_type": "code",
   "execution_count": 2,
   "metadata": {},
   "outputs": [],
   "source": [
    "data = pd.read_csv(\"..\\data\\data_work.csv\",\n",
    "                          sep=',', delimiter=None)"
   ]
  },
  {
   "cell_type": "code",
   "execution_count": 3,
   "metadata": {
    "collapsed": true
   },
   "outputs": [
    {
     "data": {
      "text/html": [
       "<div>\n",
       "<style scoped>\n",
       "    .dataframe tbody tr th:only-of-type {\n",
       "        vertical-align: middle;\n",
       "    }\n",
       "\n",
       "    .dataframe tbody tr th {\n",
       "        vertical-align: top;\n",
       "    }\n",
       "\n",
       "    .dataframe thead th {\n",
       "        text-align: right;\n",
       "    }\n",
       "</style>\n",
       "<table border=\"1\" class=\"dataframe\">\n",
       "  <thead>\n",
       "    <tr style=\"text-align: right;\">\n",
       "      <th></th>\n",
       "      <th>Unnamed: 0</th>\n",
       "      <th>year</th>\n",
       "      <th>player</th>\n",
       "      <th>position_in_team</th>\n",
       "      <th>age</th>\n",
       "      <th>team</th>\n",
       "      <th>games_played</th>\n",
       "      <th>games_started</th>\n",
       "      <th>mins_played</th>\n",
       "      <th>player_efficience_rating</th>\n",
       "      <th>...</th>\n",
       "      <th>fouls</th>\n",
       "      <th>points</th>\n",
       "      <th>player_id</th>\n",
       "      <th>year_start</th>\n",
       "      <th>year_end</th>\n",
       "      <th>position</th>\n",
       "      <th>height</th>\n",
       "      <th>weight</th>\n",
       "      <th>birth_date</th>\n",
       "      <th>college</th>\n",
       "    </tr>\n",
       "  </thead>\n",
       "  <tbody>\n",
       "    <tr>\n",
       "      <td>0</td>\n",
       "      <td>1</td>\n",
       "      <td>1986</td>\n",
       "      <td>A.C. Green</td>\n",
       "      <td>PF</td>\n",
       "      <td>22.0</td>\n",
       "      <td>LAL</td>\n",
       "      <td>82</td>\n",
       "      <td>1.0</td>\n",
       "      <td>1542.0</td>\n",
       "      <td>11.8</td>\n",
       "      <td>...</td>\n",
       "      <td>229</td>\n",
       "      <td>521</td>\n",
       "      <td>A.C. Green 1</td>\n",
       "      <td>1986.0</td>\n",
       "      <td>2001.0</td>\n",
       "      <td>F-C</td>\n",
       "      <td>6-9</td>\n",
       "      <td>220.0</td>\n",
       "      <td>October 4, 1963</td>\n",
       "      <td>Oregon State University</td>\n",
       "    </tr>\n",
       "    <tr>\n",
       "      <td>1</td>\n",
       "      <td>2</td>\n",
       "      <td>1987</td>\n",
       "      <td>A.C. Green</td>\n",
       "      <td>PF</td>\n",
       "      <td>23.0</td>\n",
       "      <td>LAL</td>\n",
       "      <td>79</td>\n",
       "      <td>72.0</td>\n",
       "      <td>2240.0</td>\n",
       "      <td>15.7</td>\n",
       "      <td>...</td>\n",
       "      <td>171</td>\n",
       "      <td>852</td>\n",
       "      <td>A.C. Green 1</td>\n",
       "      <td>1986.0</td>\n",
       "      <td>2001.0</td>\n",
       "      <td>F-C</td>\n",
       "      <td>6-9</td>\n",
       "      <td>220.0</td>\n",
       "      <td>October 4, 1963</td>\n",
       "      <td>Oregon State University</td>\n",
       "    </tr>\n",
       "    <tr>\n",
       "      <td>2</td>\n",
       "      <td>3</td>\n",
       "      <td>1988</td>\n",
       "      <td>A.C. Green</td>\n",
       "      <td>PF</td>\n",
       "      <td>24.0</td>\n",
       "      <td>LAL</td>\n",
       "      <td>82</td>\n",
       "      <td>64.0</td>\n",
       "      <td>2636.0</td>\n",
       "      <td>14.5</td>\n",
       "      <td>...</td>\n",
       "      <td>204</td>\n",
       "      <td>937</td>\n",
       "      <td>A.C. Green 1</td>\n",
       "      <td>1986.0</td>\n",
       "      <td>2001.0</td>\n",
       "      <td>F-C</td>\n",
       "      <td>6-9</td>\n",
       "      <td>220.0</td>\n",
       "      <td>October 4, 1963</td>\n",
       "      <td>Oregon State University</td>\n",
       "    </tr>\n",
       "    <tr>\n",
       "      <td>3</td>\n",
       "      <td>4</td>\n",
       "      <td>1989</td>\n",
       "      <td>A.C. Green</td>\n",
       "      <td>PF</td>\n",
       "      <td>25.0</td>\n",
       "      <td>LAL</td>\n",
       "      <td>82</td>\n",
       "      <td>82.0</td>\n",
       "      <td>2510.0</td>\n",
       "      <td>17.8</td>\n",
       "      <td>...</td>\n",
       "      <td>172</td>\n",
       "      <td>1088</td>\n",
       "      <td>A.C. Green 1</td>\n",
       "      <td>1986.0</td>\n",
       "      <td>2001.0</td>\n",
       "      <td>F-C</td>\n",
       "      <td>6-9</td>\n",
       "      <td>220.0</td>\n",
       "      <td>October 4, 1963</td>\n",
       "      <td>Oregon State University</td>\n",
       "    </tr>\n",
       "    <tr>\n",
       "      <td>4</td>\n",
       "      <td>5</td>\n",
       "      <td>1990</td>\n",
       "      <td>A.C. Green</td>\n",
       "      <td>PF</td>\n",
       "      <td>26.0</td>\n",
       "      <td>LAL</td>\n",
       "      <td>82</td>\n",
       "      <td>82.0</td>\n",
       "      <td>2709.0</td>\n",
       "      <td>14.7</td>\n",
       "      <td>...</td>\n",
       "      <td>207</td>\n",
       "      <td>1061</td>\n",
       "      <td>A.C. Green 1</td>\n",
       "      <td>1986.0</td>\n",
       "      <td>2001.0</td>\n",
       "      <td>F-C</td>\n",
       "      <td>6-9</td>\n",
       "      <td>220.0</td>\n",
       "      <td>October 4, 1963</td>\n",
       "      <td>Oregon State University</td>\n",
       "    </tr>\n",
       "  </tbody>\n",
       "</table>\n",
       "<p>5 rows × 59 columns</p>\n",
       "</div>"
      ],
      "text/plain": [
       "   Unnamed: 0  year      player position_in_team   age team  games_played  \\\n",
       "0           1  1986  A.C. Green               PF  22.0  LAL            82   \n",
       "1           2  1987  A.C. Green               PF  23.0  LAL            79   \n",
       "2           3  1988  A.C. Green               PF  24.0  LAL            82   \n",
       "3           4  1989  A.C. Green               PF  25.0  LAL            82   \n",
       "4           5  1990  A.C. Green               PF  26.0  LAL            82   \n",
       "\n",
       "   games_started  mins_played  player_efficience_rating  ...  fouls  points  \\\n",
       "0            1.0       1542.0                      11.8  ...    229     521   \n",
       "1           72.0       2240.0                      15.7  ...    171     852   \n",
       "2           64.0       2636.0                      14.5  ...    204     937   \n",
       "3           82.0       2510.0                      17.8  ...    172    1088   \n",
       "4           82.0       2709.0                      14.7  ...    207    1061   \n",
       "\n",
       "      player_id  year_start  year_end  position  height  weight  \\\n",
       "0  A.C. Green 1      1986.0    2001.0       F-C     6-9   220.0   \n",
       "1  A.C. Green 1      1986.0    2001.0       F-C     6-9   220.0   \n",
       "2  A.C. Green 1      1986.0    2001.0       F-C     6-9   220.0   \n",
       "3  A.C. Green 1      1986.0    2001.0       F-C     6-9   220.0   \n",
       "4  A.C. Green 1      1986.0    2001.0       F-C     6-9   220.0   \n",
       "\n",
       "        birth_date                  college  \n",
       "0  October 4, 1963  Oregon State University  \n",
       "1  October 4, 1963  Oregon State University  \n",
       "2  October 4, 1963  Oregon State University  \n",
       "3  October 4, 1963  Oregon State University  \n",
       "4  October 4, 1963  Oregon State University  \n",
       "\n",
       "[5 rows x 59 columns]"
      ]
     },
     "execution_count": 3,
     "metadata": {},
     "output_type": "execute_result"
    }
   ],
   "source": [
    "data.head()"
   ]
  },
  {
   "cell_type": "markdown",
   "metadata": {},
   "source": [
    "### EDA"
   ]
  },
  {
   "cell_type": "markdown",
   "metadata": {},
   "source": [
    "#### Answer Basic Question About The Data"
   ]
  },
  {
   "cell_type": "code",
   "execution_count": 13,
   "metadata": {},
   "outputs": [
    {
     "data": {
      "text/plain": [
       "'The number of observations in our dataset is 24636'"
      ]
     },
     "execution_count": 13,
     "metadata": {},
     "output_type": "execute_result"
    }
   ],
   "source": [
    "number_of_observations = data['player_id'].count()\n",
    "# len(data.index)  These are interchangeable''\n",
    "\n",
    "'The number of observations in our dataset is {}'.format(number_of_observations)"
   ]
  },
  {
   "cell_type": "code",
   "execution_count": 19,
   "metadata": {
    "collapsed": true
   },
   "outputs": [
    {
     "data": {
      "text/html": [
       "<div>\n",
       "<style scoped>\n",
       "    .dataframe tbody tr th:only-of-type {\n",
       "        vertical-align: middle;\n",
       "    }\n",
       "\n",
       "    .dataframe tbody tr th {\n",
       "        vertical-align: top;\n",
       "    }\n",
       "\n",
       "    .dataframe thead th {\n",
       "        text-align: right;\n",
       "    }\n",
       "</style>\n",
       "<table border=\"1\" class=\"dataframe\">\n",
       "  <thead>\n",
       "    <tr style=\"text-align: right;\">\n",
       "      <th></th>\n",
       "      <th>player_id</th>\n",
       "    </tr>\n",
       "    <tr>\n",
       "      <th>year</th>\n",
       "      <th></th>\n",
       "    </tr>\n",
       "  </thead>\n",
       "  <tbody>\n",
       "    <tr>\n",
       "      <td>1950</td>\n",
       "      <td>312</td>\n",
       "    </tr>\n",
       "    <tr>\n",
       "      <td>1951</td>\n",
       "      <td>174</td>\n",
       "    </tr>\n",
       "    <tr>\n",
       "      <td>1952</td>\n",
       "      <td>130</td>\n",
       "    </tr>\n",
       "    <tr>\n",
       "      <td>1953</td>\n",
       "      <td>160</td>\n",
       "    </tr>\n",
       "    <tr>\n",
       "      <td>1954</td>\n",
       "      <td>131</td>\n",
       "    </tr>\n",
       "  </tbody>\n",
       "</table>\n",
       "</div>"
      ],
      "text/plain": [
       "      player_id\n",
       "year           \n",
       "1950        312\n",
       "1951        174\n",
       "1952        130\n",
       "1953        160\n",
       "1954        131"
      ]
     },
     "execution_count": 19,
     "metadata": {},
     "output_type": "execute_result"
    }
   ],
   "source": [
    "players_per_season = data.groupby('year').count()[['player_id']]\n",
    "players_per_season.head()"
   ]
  },
  {
   "cell_type": "code",
   "execution_count": 26,
   "metadata": {},
   "outputs": [
    {
     "data": {
      "text/plain": [
       "<matplotlib.axes._subplots.AxesSubplot at 0x130f6ea4448>"
      ]
     },
     "execution_count": 26,
     "metadata": {},
     "output_type": "execute_result"
    },
    {
     "data": {
      "image/png": "[encoded data removed]",
      "text/plain": [
       "<Figure size 720x720 with 1 Axes>"
      ]
     },
     "metadata": {
      "needs_background": "light"
     },
     "output_type": "display_data"
    }
   ],
   "source": [
    "players_per_season.plot.bar(y = 'player_id', figsize = (10,10))"
   ]
  },
  {
   "cell_type": "code",
   "execution_count": null,
   "metadata": {},
   "outputs": [],
   "source": []
  }
 ],
 "metadata": {
  "kernelspec": {
   "display_name": "Python 3",
   "language": "python",
   "name": "python3"
  },
  "language_info": {
   "codemirror_mode": {
    "name": "ipython",
    "version": 3
   },
   "file_extension": ".py",
   "mimetype": "text/x-python",
   "name": "python",
   "nbconvert_exporter": "python",
   "pygments_lexer": "ipython3",
   "version": "3.7.4"
  }
 },
 "nbformat": 4,
 "nbformat_minor": 2
}
