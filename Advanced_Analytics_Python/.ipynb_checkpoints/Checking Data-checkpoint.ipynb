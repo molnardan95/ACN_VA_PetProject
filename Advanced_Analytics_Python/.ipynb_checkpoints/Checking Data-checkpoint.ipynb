{
 "cells": [
  {
   "cell_type": "code",
   "execution_count": 2,
   "metadata": {},
   "outputs": [],
   "source": [
    "import pandas as pd\n",
    "import os"
   ]
  },
  {
   "cell_type": "code",
   "execution_count": null,
   "metadata": {},
   "outputs": [],
   "source": [
    "df = pd.DataFrame({'a':[1,1,1,2,2,3,4,5],\n",
    "                  'b':[10,10,11,20,20,30,40,50]})"
   ]
  },
  {
   "cell_type": "code",
   "execution_count": null,
   "metadata": {},
   "outputs": [],
   "source": [
    "df # to print any object, jst type in the console - print() can also be used for similar result"
   ]
  },
  {
   "cell_type": "markdown",
   "metadata": {},
   "source": [
    "#### Duplicates"
   ]
  },
  {
   "cell_type": "code",
   "execution_count": null,
   "metadata": {},
   "outputs": [],
   "source": [
    "# inplace = True if you want to replace the original df\n",
    "df_no_duplicates = df.drop_duplicates()\n",
    "df.drop_duplicates(inplace=True)"
   ]
  },
  {
   "cell_type": "markdown",
   "metadata": {},
   "source": [
    "#### Missing Values"
   ]
  },
  {
   "cell_type": "code",
   "execution_count": null,
   "metadata": {},
   "outputs": [],
   "source": [
    "df = pd.DataFrame({'a':[1,2,3,4],\n",
    "                  'b':[10,None,30,40],\n",
    "                  'c':[None,None,None,400]})"
   ]
  },
  {
   "cell_type": "code",
   "execution_count": null,
   "metadata": {},
   "outputs": [],
   "source": [
    "df.isnull()"
   ]
  },
  {
   "cell_type": "code",
   "execution_count": null,
   "metadata": {},
   "outputs": [],
   "source": [
    "df.isnull().any(axis=0) # column-wise"
   ]
  },
  {
   "cell_type": "code",
   "execution_count": null,
   "metadata": {},
   "outputs": [],
   "source": [
    "df.isnull().any(axis=1) # row-wise"
   ]
  },
  {
   "cell_type": "code",
   "execution_count": null,
   "metadata": {},
   "outputs": [],
   "source": [
    "df.isnull().sum()"
   ]
  },
  {
   "cell_type": "code",
   "execution_count": null,
   "metadata": {},
   "outputs": [],
   "source": [
    "df_only_full_rows = df.dropna()\n",
    "df_only_full_rows"
   ]
  },
  {
   "cell_type": "code",
   "execution_count": null,
   "metadata": {},
   "outputs": [],
   "source": [
    "df_rows_where_b_is_not_missing = df.dropna(subset=['b'])\n",
    "df_rows_where_b_is_not_missing"
   ]
  },
  {
   "cell_type": "markdown",
   "metadata": {},
   "source": [
    "#### Replace missing values"
   ]
  },
  {
   "cell_type": "code",
   "execution_count": null,
   "metadata": {},
   "outputs": [],
   "source": [
    "# A Standard method is to replace the missing value with the average\n",
    "# If we use this method with a lot of missing values, might screw up our analysis\n",
    "mean_b = df['b'].mean()\n",
    "df_missing_b_replaced_with_mean = df.fillna(value={'b':mean_b})\n",
    "df_missing_b_replaced_with_mean"
   ]
  },
  {
   "cell_type": "code",
   "execution_count": null,
   "metadata": {},
   "outputs": [],
   "source": [
    "df_missing_b_replaced_with_mean_missing_c_replaced_with_zero = df.fillna(value={'b':mean_b,\n",
    "                                                                                'c':0})\n",
    "df_missing_b_replaced_with_mean_missing_c_replaced_with_zero"
   ]
  },
  {
   "cell_type": "code",
   "execution_count": null,
   "metadata": {},
   "outputs": [],
   "source": [
    "df.fillna('Unknown', inplace=True)\n",
    "df"
   ]
  },
  {
   "cell_type": "markdown",
   "metadata": {},
   "source": [
    "#### Numeric Data"
   ]
  },
  {
   "cell_type": "code",
   "execution_count": null,
   "metadata": {},
   "outputs": [],
   "source": [
    "df = pd.DataFrame({'a':[1,1,1,2,2,3,4,5],\n",
    "                  'b':[10,10,11,20,None,None,40,50],\n",
    "                  'c':['apple','apple','plum','pear','plum','apple','apple','apple']})"
   ]
  },
  {
   "cell_type": "code",
   "execution_count": null,
   "metadata": {},
   "outputs": [],
   "source": [
    "df.dtypes"
   ]
  },
  {
   "cell_type": "code",
   "execution_count": null,
   "metadata": {},
   "outputs": [],
   "source": [
    "df['c'].dtype"
   ]
  },
  {
   "cell_type": "code",
   "execution_count": null,
   "metadata": {},
   "outputs": [],
   "source": [
    "df.describe()"
   ]
  },
  {
   "cell_type": "code",
   "execution_count": null,
   "metadata": {},
   "outputs": [],
   "source": [
    "df.max()\n",
    "#df['a'].max()"
   ]
  },
  {
   "cell_type": "markdown",
   "metadata": {},
   "source": [
    "#### Non Numeric Data"
   ]
  },
  {
   "cell_type": "code",
   "execution_count": null,
   "metadata": {},
   "outputs": [],
   "source": [
    "df['c'].unique()"
   ]
  },
  {
   "cell_type": "code",
   "execution_count": null,
   "metadata": {},
   "outputs": [],
   "source": [
    "df['c'].nunique()"
   ]
  },
  {
   "cell_type": "code",
   "execution_count": null,
   "metadata": {},
   "outputs": [],
   "source": [
    "df['c'].value_counts()"
   ]
  },
  {
   "cell_type": "markdown",
   "metadata": {},
   "source": [
    "#### Dates"
   ]
  },
  {
   "cell_type": "code",
   "execution_count": null,
   "metadata": {},
   "outputs": [],
   "source": [
    "df = pd.DataFrame({'a':['2019-01-01 14:13', '2019-02-01 14:13'],\n",
    "                  'b':[1546351980, 1549030380]})\n",
    "df"
   ]
  },
  {
   "cell_type": "code",
   "execution_count": null,
   "metadata": {},
   "outputs": [],
   "source": [
    "df.dtypes"
   ]
  },
  {
   "cell_type": "code",
   "execution_count": null,
   "metadata": {},
   "outputs": [],
   "source": [
    "df['a_asdate'] = pd.to_datetime(df['a'], format='%Y-%m-%d %H:%M')\n",
    "df['b_asdate'] = pd.to_datetime(df['b'], unit='s')"
   ]
  },
  {
   "cell_type": "code",
   "execution_count": null,
   "metadata": {},
   "outputs": [],
   "source": [
    "df"
   ]
  },
  {
   "cell_type": "code",
   "execution_count": null,
   "metadata": {
    "scrolled": true
   },
   "outputs": [],
   "source": [
    "df.dtypes"
   ]
  },
  {
   "cell_type": "markdown",
   "metadata": {},
   "source": [
    "#### Data Manipulation"
   ]
  },
  {
   "cell_type": "code",
   "execution_count": null,
   "metadata": {},
   "outputs": [],
   "source": [
    "df = pd.DataFrame({'dates':pd.date_range(start='1/1/2018', end='1/8/2018')})\n",
    "df"
   ]
  },
  {
   "cell_type": "code",
   "execution_count": null,
   "metadata": {},
   "outputs": [],
   "source": [
    "df['year'] = df['dates'].dt.year\n",
    "df['month'] = df['dates'].dt.month\n",
    "df['day'] = df['dates'].dt.day\n",
    "df['dayofweek'] = df['dates'].dt.dayofweek\n",
    "df['weekday_name'] = df['dates'].dt.weekday_name\n",
    "df['is_leap_year'] = df['dates'].dt.is_leap_year\n",
    "# see more https://pandas.pydata.org/pandas-docs/version/0.21/api.html#datetimelike-properties"
   ]
  },
  {
   "cell_type": "code",
   "execution_count": null,
   "metadata": {},
   "outputs": [],
   "source": [
    "df"
   ]
  },
  {
   "cell_type": "markdown",
   "metadata": {},
   "source": [
    "#### Filtering"
   ]
  },
  {
   "cell_type": "code",
   "execution_count": null,
   "metadata": {},
   "outputs": [],
   "source": [
    "df = pd.DataFrame({'a':[1,1,1,2,2,3,4,5],\n",
    "                  'b':[10,10,11,20,0,0,40,50],\n",
    "                  'c':['apple','apple','plum','pear','plum','apple','apple','apple']})\n",
    "df"
   ]
  },
  {
   "cell_type": "code",
   "execution_count": null,
   "metadata": {},
   "outputs": [],
   "source": [
    "df['a']<3"
   ]
  },
  {
   "cell_type": "code",
   "execution_count": null,
   "metadata": {},
   "outputs": [],
   "source": [
    "df[df['a']<3]"
   ]
  },
  {
   "cell_type": "code",
   "execution_count": null,
   "metadata": {},
   "outputs": [],
   "source": [
    "only_apple = df[df['c']=='apple']\n",
    "only_apple"
   ]
  },
  {
   "cell_type": "code",
   "execution_count": null,
   "metadata": {},
   "outputs": [],
   "source": [
    "df[(df['b']==10) & (df['c']=='apple')]"
   ]
  },
  {
   "cell_type": "code",
   "execution_count": null,
   "metadata": {},
   "outputs": [],
   "source": [
    "df[df['a']<df['b']]"
   ]
  },
  {
   "cell_type": "markdown",
   "metadata": {},
   "source": [
    "#### Grouping"
   ]
  },
  {
   "cell_type": "code",
   "execution_count": 3,
   "metadata": {},
   "outputs": [],
   "source": [
    "os.chdir('C:\\\\Users\\\\daniel.molnar\\\\Documents\\\\Projects\\\\Mashup\\\\Advanced_Analytics_Python\\\\data\\\\')"
   ]
  },
  {
   "cell_type": "code",
   "execution_count": null,
   "metadata": {},
   "outputs": [],
   "source": [
    "movies = pd.read_csv('movies.csv')\n",
    "# This file contains movies, their genre, and users with their ratings of the movie"
   ]
  },
  {
   "cell_type": "code",
   "execution_count": null,
   "metadata": {},
   "outputs": [],
   "source": [
    "movies.groupby('title').size()"
   ]
  },
  {
   "cell_type": "code",
   "execution_count": null,
   "metadata": {},
   "outputs": [],
   "source": [
    "movies.groupby('title').size().sort_values(ascending=False).head()"
   ]
  },
  {
   "cell_type": "code",
   "execution_count": null,
   "metadata": {},
   "outputs": [],
   "source": [
    "movies.groupby('title')['rating'].mean().sort_values(ascending=False).head()"
   ]
  },
  {
   "cell_type": "code",
   "execution_count": null,
   "metadata": {},
   "outputs": [],
   "source": [
    "movies.groupby('title').agg({'rating':'mean',\n",
    "                            'userId':'nunique'})"
   ]
  },
  {
   "cell_type": "code",
   "execution_count": null,
   "metadata": {},
   "outputs": [],
   "source": [
    "# the backslashes are needed to escape the new line character. Indentation is important for python\n",
    "ratings = movies.groupby('title')\\\n",
    "                .agg({'rating':'mean', 'userId':'nunique'})\\\n",
    "                .rename(columns={'rating':'rating_mean','userId':'nb_rating'})\\\n",
    "                .sort_values('rating_mean',ascending=False)\\\n",
    "                .head()"
   ]
  },
  {
   "cell_type": "code",
   "execution_count": null,
   "metadata": {},
   "outputs": [],
   "source": [
    "ratings"
   ]
  },
  {
   "cell_type": "markdown",
   "metadata": {},
   "source": [
    "#### Plotting"
   ]
  },
  {
   "cell_type": "code",
   "execution_count": null,
   "metadata": {},
   "outputs": [],
   "source": [
    "%matplotlib inline # will make your plot outputs appear and be stored within the notebook"
   ]
  },
  {
   "cell_type": "code",
   "execution_count": null,
   "metadata": {},
   "outputs": [],
   "source": [
    "ratings_by_genre = movies.groupby('genre')['rating'].mean()"
   ]
  },
  {
   "cell_type": "code",
   "execution_count": null,
   "metadata": {},
   "outputs": [],
   "source": [
    "ratings_by_genre.plot(kind='bar')"
   ]
  },
  {
   "cell_type": "code",
   "execution_count": null,
   "metadata": {},
   "outputs": [],
   "source": [
    "ratings_by_genre.sort_values().plot(kind='bar')"
   ]
  },
  {
   "cell_type": "code",
   "execution_count": null,
   "metadata": {},
   "outputs": [],
   "source": [
    "ratings_by_genre\\\n",
    "    .sort_values()\\\n",
    "    .plot(kind='bar', title='Mean raging by genre')"
   ]
  },
  {
   "cell_type": "code",
   "execution_count": null,
   "metadata": {},
   "outputs": [],
   "source": [
    "ratings_by_genre\\\n",
    "    .sort_values()\\\n",
    "    .plot(kind='bar', title='Mean raging by genre', figsize=(14,4), color = 'lime')"
   ]
  },
  {
   "cell_type": "code",
   "execution_count": null,
   "metadata": {},
   "outputs": [],
   "source": [
    "by_year_genre = movies.groupby(['year','genre'])['rating'].mean()"
   ]
  },
  {
   "cell_type": "code",
   "execution_count": null,
   "metadata": {},
   "outputs": [],
   "source": [
    "by_year_genre.head()"
   ]
  },
  {
   "cell_type": "code",
   "execution_count": null,
   "metadata": {},
   "outputs": [],
   "source": [
    "by_year_genre = movies.groupby(['year','genre'])['rating'].mean().reset_index()"
   ]
  },
  {
   "cell_type": "code",
   "execution_count": null,
   "metadata": {},
   "outputs": [],
   "source": [
    "by_year_genre.head()"
   ]
  },
  {
   "cell_type": "code",
   "execution_count": null,
   "metadata": {},
   "outputs": [],
   "source": [
    "by_year_genre.sort_values('year', inplace=True)"
   ]
  },
  {
   "cell_type": "code",
   "execution_count": null,
   "metadata": {},
   "outputs": [],
   "source": [
    "pivoted_df = by_year_genre.pivot(index='year', columns='genre', values='rating')"
   ]
  },
  {
   "cell_type": "code",
   "execution_count": null,
   "metadata": {},
   "outputs": [],
   "source": [
    "pivoted_df.head()"
   ]
  },
  {
   "cell_type": "code",
   "execution_count": null,
   "metadata": {},
   "outputs": [],
   "source": [
    "pivoted_df.plot(kind='bar', figsize=(15,5), title='Average ratings by year of premiere and genre')"
   ]
  },
  {
   "cell_type": "code",
   "execution_count": null,
   "metadata": {},
   "outputs": [],
   "source": [
    "pivoted_df.plot(kind='bar', \n",
    "                figsize=(15,5), \n",
    "                title='Average ratings by year of premiere and genre',\n",
    "               colormap='winter')"
   ]
  },
  {
   "cell_type": "markdown",
   "metadata": {},
   "source": [
    "#### Multiple Plots"
   ]
  },
  {
   "cell_type": "code",
   "execution_count": null,
   "metadata": {},
   "outputs": [],
   "source": [
    "import matplotlib.pyplot as plt"
   ]
  },
  {
   "cell_type": "code",
   "execution_count": null,
   "metadata": {},
   "outputs": [],
   "source": [
    "by_year_genre2 = movies.groupby(['year','genre'])['userId'].nunique().reset_index().sort_values('year')\n",
    "pivoted_df2 = by_year_genre2.pivot(index='year', columns='genre', values='userId')\n"
   ]
  },
  {
   "cell_type": "code",
   "execution_count": null,
   "metadata": {},
   "outputs": [],
   "source": [
    "fig, axes = plt.subplots(nrows=1, ncols=2)\n",
    "fig.suptitle('Ratings by year of premiere and genre')\n",
    "pivoted_df.plot(kind='bar',  \n",
    "                title='Average',\n",
    "                colormap='winter',\n",
    "                ax=axes[0]\n",
    "                )\n",
    "pivoted_df2.plot(kind='bar', \n",
    "                figsize=(15,5), \n",
    "                title='Number',\n",
    "               colormap='summer',\n",
    "               ax=axes[1])\n",
    "plt.show()"
   ]
  },
  {
   "cell_type": "code",
   "execution_count": null,
   "metadata": {},
   "outputs": [],
   "source": [
    "pivoted_df[pivoted_df.index.isin(['(2010)', '(2011)'])]"
   ]
  },
  {
   "cell_type": "code",
   "execution_count": null,
   "metadata": {},
   "outputs": [],
   "source": [
    "fig, axes = plt.subplots(nrows=2, ncols=2)\n",
    "fig.suptitle('Ratings by year of premiere and genre')\n",
    "pivoted_df[pivoted_df.index.isin(['(2010)', '(2011)'])].plot(kind='bar', \n",
    "                title='Average',\n",
    "                colormap='winter',\n",
    "                ax=axes[0,0]\n",
    "                )\n",
    "pivoted_df2[pivoted_df.index.isin(['(2010)', '(2011)'])].plot(kind='bar', \n",
    "                title='Number',\n",
    "               colormap='summer',\n",
    "               ax=axes[0,1])\n",
    "pivoted_df[~pivoted_df.index.isin(['(2010)', '(2011)'])].plot(kind='bar', \n",
    "                title='Average',\n",
    "                colormap='winter',\n",
    "                ax=axes[1,0]\n",
    "                )\n",
    "pivoted_df2[~pivoted_df.index.isin(['(2010)', '(2011)'])].plot(kind='bar', \n",
    "                figsize=(15,5), \n",
    "                title='Number',\n",
    "               colormap='summer',\n",
    "               ax=axes[1,1])\n",
    "plt.show()"
   ]
  },
  {
   "cell_type": "code",
   "execution_count": null,
   "metadata": {},
   "outputs": [],
   "source": [
    "fig, axes = plt.subplots(nrows=2, ncols=2)\n",
    "fig.suptitle('Ratings by year of premiere and genre')\n",
    "pivoted_df[pivoted_df.index.isin(['(2010)', '(2011)'])].plot(kind='bar', \n",
    "                title='Average',\n",
    "                colormap='winter',\n",
    "                ax=axes[0,0]\n",
    "                )\n",
    "pivoted_df2[pivoted_df.index.isin(['(2010)', '(2011)'])].plot(kind='bar', \n",
    "                title='Number',\n",
    "               colormap='summer',\n",
    "                legend=False,\n",
    "               ax=axes[0,1])\n",
    "pivoted_df[~pivoted_df.index.isin(['(2010)', '(2011)'])].plot(kind='bar', \n",
    "                title='Average',\n",
    "                colormap='winter',\n",
    "                legend=False,\n",
    "                ax=axes[1,0]\n",
    "                )\n",
    "pivoted_df2[~pivoted_df.index.isin(['(2010)', '(2011)'])].plot(kind='bar', \n",
    "                figsize=(20,15), \n",
    "                title='Number',\n",
    "               colormap='summer',\n",
    "               ax=axes[1,1])\n",
    "plt.show()"
   ]
  },
  {
   "cell_type": "markdown",
   "metadata": {},
   "source": [
    "### Exercise\n",
    "\n",
    "#### The task is to find out if there is a difference between Subscriber and Customer routines\n",
    "\n",
    "- Load data from the data/trip_filled.csv file\n",
    "- Convert the Start Date column into start_datetime\n",
    "- Create a start_hour column containing the hour when the trip started.\n",
    "- Plot the bike usage using this newly created field. We are interested in usage during different times of day.\n",
    "- Group the data by Subscription Type and create a chart showing the difference in the two subscription groups.\n",
    "- Let's create the same chart for weekday and weekend trips, to see if there is a difference there."
   ]
  },
  {
   "cell_type": "markdown",
   "metadata": {},
   "source": [
    "Solutions should look similar to these:\n",
    "<img src=\"exc7_chart.png\">\n",
    "<br><br>\n",
    "<img src=\"exc10_chart.png\">\n",
    "<br><br>\n",
    "<img src=\"exc10_chart_advance.png\">"
   ]
  },
  {
   "cell_type": "code",
   "execution_count": null,
   "metadata": {},
   "outputs": [],
   "source": [
    "os.getcwd()"
   ]
  },
  {
   "cell_type": "code",
   "execution_count": null,
   "metadata": {},
   "outputs": [],
   "source": []
  }
 ],
 "metadata": {
  "kernelspec": {
   "display_name": "Python 3",
   "language": "python",
   "name": "python3"
  },
  "language_info": {
   "codemirror_mode": {
    "name": "ipython",
    "version": 3
   },
   "file_extension": ".py",
   "mimetype": "text/x-python",
   "name": "python",
   "nbconvert_exporter": "python",
   "pygments_lexer": "ipython3",
   "version": "3.7.4"
  }
 },
 "nbformat": 4,
 "nbformat_minor": 2
}
