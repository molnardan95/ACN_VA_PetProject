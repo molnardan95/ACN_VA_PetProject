{
 "cells": [
  {
   "cell_type": "code",
   "execution_count": 5,
   "metadata": {},
   "outputs": [],
   "source": [
    "import kaggle as kg"
   ]
  },
  {
   "cell_type": "code",
   "execution_count": 8,
   "metadata": {
    "collapsed": true
   },
   "outputs": [
    {
     "name": "stdout",
     "output_type": "stream",
     "text": [
      "Requirement already satisfied: kaggle in c:\\users\\daniel.molnar\\appdata\\roaming\\python\\python37\\site-packages (1.5.6)\n",
      "Requirement already satisfied: requests in c:\\users\\daniel.molnar\\appdata\\local\\continuum\\anaconda3\\lib\\site-packages (from kaggle) (2.22.0)\n",
      "Requirement already satisfied: certifi in c:\\users\\daniel.molnar\\appdata\\local\\continuum\\anaconda3\\lib\\site-packages (from kaggle) (2019.9.11)\n",
      "Requirement already satisfied: tqdm in c:\\users\\daniel.molnar\\appdata\\local\\continuum\\anaconda3\\lib\\site-packages (from kaggle) (4.36.1)\n",
      "Requirement already satisfied: urllib3<1.25,>=1.21.1 in c:\\users\\daniel.molnar\\appdata\\local\\continuum\\anaconda3\\lib\\site-packages (from kaggle) (1.24.2)\n",
      "Requirement already satisfied: python-dateutil in c:\\users\\daniel.molnar\\appdata\\local\\continuum\\anaconda3\\lib\\site-packages (from kaggle) (2.8.0)\n",
      "Requirement already satisfied: python-slugify in c:\\users\\daniel.molnar\\appdata\\roaming\\python\\python37\\site-packages (from kaggle) (4.0.0)\n",
      "Requirement already satisfied: six>=1.10 in c:\\users\\daniel.molnar\\appdata\\local\\continuum\\anaconda3\\lib\\site-packages (from kaggle) (1.12.0)\n",
      "Requirement already satisfied: chardet<3.1.0,>=3.0.2 in c:\\users\\daniel.molnar\\appdata\\local\\continuum\\anaconda3\\lib\\site-packages (from requests->kaggle) (3.0.4)\n",
      "Requirement already satisfied: idna<2.9,>=2.5 in c:\\users\\daniel.molnar\\appdata\\local\\continuum\\anaconda3\\lib\\site-packages (from requests->kaggle) (2.8)\n",
      "Requirement already satisfied: text-unidecode>=1.3 in c:\\users\\daniel.molnar\\appdata\\roaming\\python\\python37\\site-packages (from python-slugify->kaggle) (1.3)\n"
     ]
    }
   ],
   "source": [
    "!pip install kaggle"
   ]
  },
  {
   "cell_type": "code",
   "execution_count": 10,
   "metadata": {},
   "outputs": [],
   "source": [
    "def extract_data(file_name, file_path):\n",
    "    !pip kaggle competitions download titanic -f $file_name -p $file_path --force"
   ]
  },
  {
   "cell_type": "code",
   "execution_count": null,
   "metadata": {},
   "outputs": [],
   "source": [
    "import os\n",
    "train_file_name = \"train.csv\"\n",
    "test_file_name = \"test.csv\"\n",
    "\n",
    "raw_data_path = os.path.join(os.path.pardir, 'data', 'raw')\n",
    "extract_data(train_file_name, raw_data_path)\n",
    "extract_data(test_file_name, raw_data_path)"
   ]
  },
  {
   "cell_type": "code",
   "execution_count": 9,
   "metadata": {},
   "outputs": [
    {
     "name": "stderr",
     "output_type": "stream",
     "text": [
      "'kaggle' is not recognized as an internal or external command,\n",
      "operable program or batch file.\n"
     ]
    }
   ],
   "source": [
    "! kaggle competitions --help"
   ]
  },
  {
   "cell_type": "code",
   "execution_count": 10,
   "metadata": {},
   "outputs": [
    {
     "name": "stdout",
     "output_type": "stream",
     "text": [
      "\\Users\\daniel.molnar\n"
     ]
    }
   ],
   "source": [
    "!echo %HOMEPATH%"
   ]
  },
  {
   "cell_type": "code",
   "execution_count": 7,
   "metadata": {},
   "outputs": [
    {
     "ename": "SyntaxError",
     "evalue": "invalid syntax (<ipython-input-7-81ff8e571aae>, line 1)",
     "output_type": "error",
     "traceback": [
      "\u001b[1;36m  File \u001b[1;32m\"<ipython-input-7-81ff8e571aae>\"\u001b[1;36m, line \u001b[1;32m1\u001b[0m\n\u001b[1;33m    kg datasets list -s \"nba\"\u001b[0m\n\u001b[1;37m              ^\u001b[0m\n\u001b[1;31mSyntaxError\u001b[0m\u001b[1;31m:\u001b[0m invalid syntax\n"
     ]
    }
   ],
   "source": [
    "kg datasets list -s \"nba\""
   ]
  }
 ],
 "metadata": {
  "kernelspec": {
   "display_name": "Python 3",
   "language": "python",
   "name": "python3"
  },
  "language_info": {
   "codemirror_mode": {
    "name": "ipython",
    "version": 3
   },
   "file_extension": ".py",
   "mimetype": "text/x-python",
   "name": "python",
   "nbconvert_exporter": "python",
   "pygments_lexer": "ipython3",
   "version": "3.7.4"
  }
 },
 "nbformat": 4,
 "nbformat_minor": 2
}
